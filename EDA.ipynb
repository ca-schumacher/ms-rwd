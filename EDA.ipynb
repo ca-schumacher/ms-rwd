{
 "cells": [
  {
   "cell_type": "markdown",
   "metadata": {},
   "source": [
    "# Explorative data analysis of real world data on multiple sclerosis"
   ]
  },
  {
   "cell_type": "markdown",
   "metadata": {},
   "source": [
    "This script will perform the data import, cleaning and further processing as well as data exploration to tackle the following research questions:\n",
    "\n",
    "- Which of the collected metrics show differences between people with multiple sclerosis and controls?\n",
    "- Does the mood (or self-reported well-being) correlate with some of the gathered metrics?\n",
    "- Can we use the dataset to monitor and track symptomatic progresses?\n",
    "---"
   ]
  },
  {
   "cell_type": "markdown",
   "metadata": {},
   "source": [
    "# 1) Import the data"
   ]
  },
  {
   "cell_type": "markdown",
   "metadata": {},
   "source": [
    "We start our analysis by importing required libraries:"
   ]
  },
  {
   "cell_type": "code",
   "execution_count": 1,
   "metadata": {},
   "outputs": [],
   "source": [
    "%matplotlib inline\n",
    "import numpy as np\n",
    "import matplotlib.pyplot as plt\n",
    "from matplotlib.cbook import boxplot_stats\n",
    "import pandas as pd\n",
    "import seaborn as sns\n",
    "import datetime\n",
    "from datetime import date\n",
    "import holidays\n",
    "from scipy import stats\n",
    "from collections import Counter\n",
    "sns.set_palette(\"RdBu_r\", 7) # this sets the color palette\n",
    "pd.options.mode.chained_assignment = None  # default='warn'\n",
    "pd.set_option('display.max_columns', None) # display all columns"
   ]
  },
  {
   "cell_type": "markdown",
   "metadata": {},
   "source": [
    "Loading the data and deleting useless columns:"
   ]
  },
  {
   "cell_type": "code",
   "execution_count": 69,
   "metadata": {},
   "outputs": [],
   "source": [
    "df = pd.read_csv('complete_dataset.csv')#, nrows=50000) # 'nrows=50000' for reduced data import\n",
    "df = df.drop(['testResultMetricTimestamp1','testResultMetricTimestamp2','Unnamed: 19'], axis=1)"
   ]
  },
  {
   "cell_type": "markdown",
   "metadata": {},
   "source": [
    "Check if we have missing (nan) values:"
   ]
  },
  {
   "cell_type": "code",
   "execution_count": 3,
   "metadata": {},
   "outputs": [
    {
     "name": "stdout",
     "output_type": "stream",
     "text": [
      "floodlightOpenId                 0\n",
      "participantCreatedOn             0\n",
      "participantIsControl             0\n",
      "participantCountryOfResidence    0\n",
      "participantSex                   0\n",
      "participantBirthYear             0\n",
      "participantWeightLbs             0\n",
      "participantHeightCms             0\n",
      "testName                         0\n",
      "testCode                         0\n",
      "testMetricName                   0\n",
      "testMetricCode                   0\n",
      "testStartedAt                    0\n",
      "testEndedAt                      0\n",
      "testResultMetricId               0\n",
      "testResultMetricCreatedOn        0\n",
      "testResultMetricValue            0\n",
      "dtype: int64\n"
     ]
    }
   ],
   "source": [
    "missing_values = df.isnull().sum()\n",
    "print(missing_values)"
   ]
  },
  {
   "cell_type": "code",
   "execution_count": 4,
   "metadata": {},
   "outputs": [
    {
     "name": "stdout",
     "output_type": "stream",
     "text": [
      "Data contains no nan values.\n"
     ]
    }
   ],
   "source": [
    "shape1 = df.shape\n",
    "df = df.dropna()\n",
    "shape2 = df.shape\n",
    "if shape1 == shape2:\n",
    "    print('Data contains no nan values.')\n",
    "else:\n",
    "    print('Data contains nan values.')"
   ]
  },
  {
   "cell_type": "markdown",
   "metadata": {},
   "source": [
    "Good. Let's look at the first couple of rows in our dataframe:"
   ]
  },
  {
   "cell_type": "code",
   "execution_count": 70,
   "metadata": {},
   "outputs": [
    {
     "data": {
      "text/html": [
       "<div>\n",
       "<style scoped>\n",
       "    .dataframe tbody tr th:only-of-type {\n",
       "        vertical-align: middle;\n",
       "    }\n",
       "\n",
       "    .dataframe tbody tr th {\n",
       "        vertical-align: top;\n",
       "    }\n",
       "\n",
       "    .dataframe thead th {\n",
       "        text-align: right;\n",
       "    }\n",
       "</style>\n",
       "<table border=\"1\" class=\"dataframe\">\n",
       "  <thead>\n",
       "    <tr style=\"text-align: right;\">\n",
       "      <th></th>\n",
       "      <th>floodlightOpenId</th>\n",
       "      <th>participantCreatedOn</th>\n",
       "      <th>participantIsControl</th>\n",
       "      <th>participantCountryOfResidence</th>\n",
       "      <th>participantSex</th>\n",
       "      <th>participantBirthYear</th>\n",
       "      <th>participantWeightLbs</th>\n",
       "      <th>participantHeightCms</th>\n",
       "      <th>testName</th>\n",
       "      <th>testCode</th>\n",
       "      <th>testMetricName</th>\n",
       "      <th>testMetricCode</th>\n",
       "      <th>testStartedAt</th>\n",
       "      <th>testEndedAt</th>\n",
       "      <th>testResultMetricId</th>\n",
       "      <th>testResultMetricCreatedOn</th>\n",
       "      <th>testResultMetricValue</th>\n",
       "    </tr>\n",
       "  </thead>\n",
       "  <tbody>\n",
       "    <tr>\n",
       "      <th>0</th>\n",
       "      <td>FL10038084</td>\n",
       "      <td>4/23/2018 12:12:03 AM +00:00</td>\n",
       "      <td>True</td>\n",
       "      <td>US</td>\n",
       "      <td>male</td>\n",
       "      <td>1966</td>\n",
       "      <td>159.0</td>\n",
       "      <td>178.0</td>\n",
       "      <td>Daily Questions</td>\n",
       "      <td>daily_questions</td>\n",
       "      <td>Mood Response</td>\n",
       "      <td>mood_response</td>\n",
       "      <td>4/23/2018 12:22:55 AM +00:00</td>\n",
       "      <td>4/23/2018 12:22:55 AM +00:00</td>\n",
       "      <td>115524</td>\n",
       "      <td>4/23/2018 12:22:57 AM +00:00</td>\n",
       "      <td>4.00</td>\n",
       "    </tr>\n",
       "    <tr>\n",
       "      <th>1</th>\n",
       "      <td>FL10038084</td>\n",
       "      <td>4/23/2018 12:12:03 AM +00:00</td>\n",
       "      <td>True</td>\n",
       "      <td>US</td>\n",
       "      <td>male</td>\n",
       "      <td>1966</td>\n",
       "      <td>159.0</td>\n",
       "      <td>178.0</td>\n",
       "      <td>Daily Questions</td>\n",
       "      <td>daily_questions</td>\n",
       "      <td>Mood Response</td>\n",
       "      <td>mood_response</td>\n",
       "      <td>4/25/2018 4:04:31 AM +00:00</td>\n",
       "      <td>4/25/2018 4:04:31 AM +00:00</td>\n",
       "      <td>116040</td>\n",
       "      <td>4/25/2018 4:04:32 AM +00:00</td>\n",
       "      <td>5.00</td>\n",
       "    </tr>\n",
       "    <tr>\n",
       "      <th>2</th>\n",
       "      <td>FL10038084</td>\n",
       "      <td>4/23/2018 12:12:03 AM +00:00</td>\n",
       "      <td>True</td>\n",
       "      <td>US</td>\n",
       "      <td>male</td>\n",
       "      <td>1966</td>\n",
       "      <td>159.0</td>\n",
       "      <td>178.0</td>\n",
       "      <td>Information Processing Speed Baseline Test</td>\n",
       "      <td>ips_baseline</td>\n",
       "      <td>Correct Responses</td>\n",
       "      <td>correct_responses</td>\n",
       "      <td>4/25/2018 4:06:35 AM +00:00</td>\n",
       "      <td>4/25/2018 4:06:51 AM +00:00</td>\n",
       "      <td>116041</td>\n",
       "      <td>4/25/2018 4:06:51 AM +00:00</td>\n",
       "      <td>16.00</td>\n",
       "    </tr>\n",
       "    <tr>\n",
       "      <th>3</th>\n",
       "      <td>FL10038084</td>\n",
       "      <td>4/23/2018 12:12:03 AM +00:00</td>\n",
       "      <td>True</td>\n",
       "      <td>US</td>\n",
       "      <td>male</td>\n",
       "      <td>1966</td>\n",
       "      <td>159.0</td>\n",
       "      <td>178.0</td>\n",
       "      <td>Information Processing Speed Baseline Test</td>\n",
       "      <td>ips_baseline</td>\n",
       "      <td>Response Time Average</td>\n",
       "      <td>response_time_avg</td>\n",
       "      <td>4/25/2018 4:06:35 AM +00:00</td>\n",
       "      <td>4/25/2018 4:06:51 AM +00:00</td>\n",
       "      <td>116042</td>\n",
       "      <td>4/25/2018 4:06:51 AM +00:00</td>\n",
       "      <td>0.94</td>\n",
       "    </tr>\n",
       "    <tr>\n",
       "      <th>4</th>\n",
       "      <td>FL10038084</td>\n",
       "      <td>4/23/2018 12:12:03 AM +00:00</td>\n",
       "      <td>True</td>\n",
       "      <td>US</td>\n",
       "      <td>male</td>\n",
       "      <td>1966</td>\n",
       "      <td>159.0</td>\n",
       "      <td>178.0</td>\n",
       "      <td>IPS</td>\n",
       "      <td>ips</td>\n",
       "      <td>Correct Responses</td>\n",
       "      <td>correct_responses</td>\n",
       "      <td>4/25/2018 4:06:35 AM +00:00</td>\n",
       "      <td>4/25/2018 4:06:51 AM +00:00</td>\n",
       "      <td>116043</td>\n",
       "      <td>4/25/2018 4:06:51 AM +00:00</td>\n",
       "      <td>39.00</td>\n",
       "    </tr>\n",
       "  </tbody>\n",
       "</table>\n",
       "</div>"
      ],
      "text/plain": [
       "  floodlightOpenId          participantCreatedOn  participantIsControl  \\\n",
       "0       FL10038084  4/23/2018 12:12:03 AM +00:00                  True   \n",
       "1       FL10038084  4/23/2018 12:12:03 AM +00:00                  True   \n",
       "2       FL10038084  4/23/2018 12:12:03 AM +00:00                  True   \n",
       "3       FL10038084  4/23/2018 12:12:03 AM +00:00                  True   \n",
       "4       FL10038084  4/23/2018 12:12:03 AM +00:00                  True   \n",
       "\n",
       "  participantCountryOfResidence participantSex  participantBirthYear  \\\n",
       "0                            US           male                  1966   \n",
       "1                            US           male                  1966   \n",
       "2                            US           male                  1966   \n",
       "3                            US           male                  1966   \n",
       "4                            US           male                  1966   \n",
       "\n",
       "   participantWeightLbs  participantHeightCms  \\\n",
       "0                 159.0                 178.0   \n",
       "1                 159.0                 178.0   \n",
       "2                 159.0                 178.0   \n",
       "3                 159.0                 178.0   \n",
       "4                 159.0                 178.0   \n",
       "\n",
       "                                     testName         testCode  \\\n",
       "0                             Daily Questions  daily_questions   \n",
       "1                             Daily Questions  daily_questions   \n",
       "2  Information Processing Speed Baseline Test     ips_baseline   \n",
       "3  Information Processing Speed Baseline Test     ips_baseline   \n",
       "4                                         IPS              ips   \n",
       "\n",
       "          testMetricName     testMetricCode                 testStartedAt  \\\n",
       "0          Mood Response      mood_response  4/23/2018 12:22:55 AM +00:00   \n",
       "1          Mood Response      mood_response   4/25/2018 4:04:31 AM +00:00   \n",
       "2      Correct Responses  correct_responses   4/25/2018 4:06:35 AM +00:00   \n",
       "3  Response Time Average  response_time_avg   4/25/2018 4:06:35 AM +00:00   \n",
       "4      Correct Responses  correct_responses   4/25/2018 4:06:35 AM +00:00   \n",
       "\n",
       "                    testEndedAt  testResultMetricId  \\\n",
       "0  4/23/2018 12:22:55 AM +00:00              115524   \n",
       "1   4/25/2018 4:04:31 AM +00:00              116040   \n",
       "2   4/25/2018 4:06:51 AM +00:00              116041   \n",
       "3   4/25/2018 4:06:51 AM +00:00              116042   \n",
       "4   4/25/2018 4:06:51 AM +00:00              116043   \n",
       "\n",
       "      testResultMetricCreatedOn  testResultMetricValue  \n",
       "0  4/23/2018 12:22:57 AM +00:00                   4.00  \n",
       "1   4/25/2018 4:04:32 AM +00:00                   5.00  \n",
       "2   4/25/2018 4:06:51 AM +00:00                  16.00  \n",
       "3   4/25/2018 4:06:51 AM +00:00                   0.94  \n",
       "4   4/25/2018 4:06:51 AM +00:00                  39.00  "
      ]
     },
     "execution_count": 70,
     "metadata": {},
     "output_type": "execute_result"
    }
   ],
   "source": [
    "df.head()"
   ]
  },
  {
   "cell_type": "markdown",
   "metadata": {},
   "source": [
    "Converting the date string format to datetime:"
   ]
  },
  {
   "cell_type": "code",
   "execution_count": 71,
   "metadata": {},
   "outputs": [],
   "source": [
    "df['participantCreatedOn'] = [datetime.datetime.strptime(x, '%m/%d/%Y %I:%M:%S %p %z') for x in df['participantCreatedOn']]\n",
    "df['testStartedAt'] = [datetime.datetime.strptime(x, '%m/%d/%Y %I:%M:%S %p %z') for x in df['testStartedAt']]\n",
    "df['testEndedAt'] = [datetime.datetime.strptime(x, '%m/%d/%Y %I:%M:%S %p %z') for x in df['testEndedAt']]\n",
    "df['testResultMetricCreatedOn'] = [datetime.datetime.strptime(x, '%m/%d/%Y %I:%M:%S %p %z') for x in df['testResultMetricCreatedOn']]"
   ]
  },
  {
   "cell_type": "markdown",
   "metadata": {},
   "source": [
    "The dataframe contains data about:\n",
    "- anthropomorphic data (age, sex, height and weight) of the participants\n",
    "- identifier of the participant (Id)\n",
    "- identifier of MS diagnosis ('participantIsControl')\n",
    "- identifier of the reported test metric\n",
    "- value and time of result logging\n",
    "\n",
    "Ok, lets have a look at the descriptive statistics to check if the entries are reasonable:"
   ]
  },
  {
   "cell_type": "code",
   "execution_count": 7,
   "metadata": {},
   "outputs": [
    {
     "data": {
      "text/html": [
       "<div>\n",
       "<style scoped>\n",
       "    .dataframe tbody tr th:only-of-type {\n",
       "        vertical-align: middle;\n",
       "    }\n",
       "\n",
       "    .dataframe tbody tr th {\n",
       "        vertical-align: top;\n",
       "    }\n",
       "\n",
       "    .dataframe thead th {\n",
       "        text-align: right;\n",
       "    }\n",
       "</style>\n",
       "<table border=\"1\" class=\"dataframe\">\n",
       "  <thead>\n",
       "    <tr style=\"text-align: right;\">\n",
       "      <th></th>\n",
       "      <th>participantBirthYear</th>\n",
       "      <th>participantWeightLbs</th>\n",
       "      <th>participantHeightCms</th>\n",
       "      <th>testResultMetricId</th>\n",
       "      <th>testResultMetricValue</th>\n",
       "    </tr>\n",
       "  </thead>\n",
       "  <tbody>\n",
       "    <tr>\n",
       "      <th>count</th>\n",
       "      <td>215759.000000</td>\n",
       "      <td>215759.000000</td>\n",
       "      <td>215759.000000</td>\n",
       "      <td>215759.000000</td>\n",
       "      <td>215759.000000</td>\n",
       "    </tr>\n",
       "    <tr>\n",
       "      <th>mean</th>\n",
       "      <td>1971.662610</td>\n",
       "      <td>172.335119</td>\n",
       "      <td>167.532381</td>\n",
       "      <td>142008.888895</td>\n",
       "      <td>28.120221</td>\n",
       "    </tr>\n",
       "    <tr>\n",
       "      <th>std</th>\n",
       "      <td>12.602808</td>\n",
       "      <td>55.011890</td>\n",
       "      <td>23.823953</td>\n",
       "      <td>79700.368559</td>\n",
       "      <td>241.647506</td>\n",
       "    </tr>\n",
       "    <tr>\n",
       "      <th>min</th>\n",
       "      <td>1900.000000</td>\n",
       "      <td>3.000000</td>\n",
       "      <td>1.000000</td>\n",
       "      <td>66.000000</td>\n",
       "      <td>0.000000</td>\n",
       "    </tr>\n",
       "    <tr>\n",
       "      <th>25%</th>\n",
       "      <td>1963.000000</td>\n",
       "      <td>136.000000</td>\n",
       "      <td>163.000000</td>\n",
       "      <td>53735.500000</td>\n",
       "      <td>0.130000</td>\n",
       "    </tr>\n",
       "    <tr>\n",
       "      <th>50%</th>\n",
       "      <td>1971.000000</td>\n",
       "      <td>162.000000</td>\n",
       "      <td>170.000000</td>\n",
       "      <td>159816.000000</td>\n",
       "      <td>1.000000</td>\n",
       "    </tr>\n",
       "    <tr>\n",
       "      <th>75%</th>\n",
       "      <td>1980.000000</td>\n",
       "      <td>190.000000</td>\n",
       "      <td>178.000000</td>\n",
       "      <td>215022.500000</td>\n",
       "      <td>6.000000</td>\n",
       "    </tr>\n",
       "    <tr>\n",
       "      <th>max</th>\n",
       "      <td>2019.000000</td>\n",
       "      <td>552.000000</td>\n",
       "      <td>250.000000</td>\n",
       "      <td>245354.000000</td>\n",
       "      <td>30316.670000</td>\n",
       "    </tr>\n",
       "  </tbody>\n",
       "</table>\n",
       "</div>"
      ],
      "text/plain": [
       "       participantBirthYear  participantWeightLbs  participantHeightCms  \\\n",
       "count         215759.000000         215759.000000         215759.000000   \n",
       "mean            1971.662610            172.335119            167.532381   \n",
       "std               12.602808             55.011890             23.823953   \n",
       "min             1900.000000              3.000000              1.000000   \n",
       "25%             1963.000000            136.000000            163.000000   \n",
       "50%             1971.000000            162.000000            170.000000   \n",
       "75%             1980.000000            190.000000            178.000000   \n",
       "max             2019.000000            552.000000            250.000000   \n",
       "\n",
       "       testResultMetricId  testResultMetricValue  \n",
       "count       215759.000000          215759.000000  \n",
       "mean        142008.888895              28.120221  \n",
       "std          79700.368559             241.647506  \n",
       "min             66.000000               0.000000  \n",
       "25%          53735.500000               0.130000  \n",
       "50%         159816.000000               1.000000  \n",
       "75%         215022.500000               6.000000  \n",
       "max         245354.000000           30316.670000  "
      ]
     },
     "execution_count": 7,
     "metadata": {},
     "output_type": "execute_result"
    }
   ],
   "source": [
    "df.describe()"
   ]
  },
  {
   "cell_type": "markdown",
   "metadata": {},
   "source": [
    "We can see that some of the entries are not reasonable (e.g. weight = 3 Lbs). In order to clean unreasonable samples, and to restrict our analysis to more confined ranges we delete samples that do not meet the following criteria:\n",
    "- age between 18 and 100\n",
    "- weight above 100 Lbs\n",
    "- height above 150 Cms"
   ]
  },
  {
   "cell_type": "code",
   "execution_count": 72,
   "metadata": {},
   "outputs": [],
   "source": [
    "df = df.drop(df[(df['participantBirthYear'] < 1920) | (df['participantBirthYear'] > 2002) | (df['participantWeightLbs'] < 100) | (df['participantHeightCms'] < 150)].index)"
   ]
  },
  {
   "cell_type": "code",
   "execution_count": 9,
   "metadata": {},
   "outputs": [
    {
     "data": {
      "text/html": [
       "<div>\n",
       "<style scoped>\n",
       "    .dataframe tbody tr th:only-of-type {\n",
       "        vertical-align: middle;\n",
       "    }\n",
       "\n",
       "    .dataframe tbody tr th {\n",
       "        vertical-align: top;\n",
       "    }\n",
       "\n",
       "    .dataframe thead th {\n",
       "        text-align: right;\n",
       "    }\n",
       "</style>\n",
       "<table border=\"1\" class=\"dataframe\">\n",
       "  <thead>\n",
       "    <tr style=\"text-align: right;\">\n",
       "      <th></th>\n",
       "      <th>participantBirthYear</th>\n",
       "      <th>participantWeightLbs</th>\n",
       "      <th>participantHeightCms</th>\n",
       "      <th>testResultMetricId</th>\n",
       "      <th>testResultMetricValue</th>\n",
       "    </tr>\n",
       "  </thead>\n",
       "  <tbody>\n",
       "    <tr>\n",
       "      <th>count</th>\n",
       "      <td>207958.000000</td>\n",
       "      <td>207958.000000</td>\n",
       "      <td>207958.000000</td>\n",
       "      <td>207958.000000</td>\n",
       "      <td>207958.000000</td>\n",
       "    </tr>\n",
       "    <tr>\n",
       "      <th>mean</th>\n",
       "      <td>1971.476606</td>\n",
       "      <td>173.115696</td>\n",
       "      <td>170.629449</td>\n",
       "      <td>142562.489969</td>\n",
       "      <td>28.344196</td>\n",
       "    </tr>\n",
       "    <tr>\n",
       "      <th>std</th>\n",
       "      <td>11.098155</td>\n",
       "      <td>54.555133</td>\n",
       "      <td>10.109646</td>\n",
       "      <td>80082.167168</td>\n",
       "      <td>241.416512</td>\n",
       "    </tr>\n",
       "    <tr>\n",
       "      <th>min</th>\n",
       "      <td>1921.000000</td>\n",
       "      <td>100.000000</td>\n",
       "      <td>150.000000</td>\n",
       "      <td>66.000000</td>\n",
       "      <td>0.000000</td>\n",
       "    </tr>\n",
       "    <tr>\n",
       "      <th>25%</th>\n",
       "      <td>1964.000000</td>\n",
       "      <td>137.000000</td>\n",
       "      <td>163.000000</td>\n",
       "      <td>53674.250000</td>\n",
       "      <td>0.130000</td>\n",
       "    </tr>\n",
       "    <tr>\n",
       "      <th>50%</th>\n",
       "      <td>1971.000000</td>\n",
       "      <td>162.000000</td>\n",
       "      <td>170.000000</td>\n",
       "      <td>161253.500000</td>\n",
       "      <td>1.000000</td>\n",
       "    </tr>\n",
       "    <tr>\n",
       "      <th>75%</th>\n",
       "      <td>1979.000000</td>\n",
       "      <td>190.000000</td>\n",
       "      <td>178.000000</td>\n",
       "      <td>216229.750000</td>\n",
       "      <td>6.300000</td>\n",
       "    </tr>\n",
       "    <tr>\n",
       "      <th>max</th>\n",
       "      <td>2002.000000</td>\n",
       "      <td>552.000000</td>\n",
       "      <td>226.000000</td>\n",
       "      <td>245354.000000</td>\n",
       "      <td>30316.670000</td>\n",
       "    </tr>\n",
       "  </tbody>\n",
       "</table>\n",
       "</div>"
      ],
      "text/plain": [
       "       participantBirthYear  participantWeightLbs  participantHeightCms  \\\n",
       "count         207958.000000         207958.000000         207958.000000   \n",
       "mean            1971.476606            173.115696            170.629449   \n",
       "std               11.098155             54.555133             10.109646   \n",
       "min             1921.000000            100.000000            150.000000   \n",
       "25%             1964.000000            137.000000            163.000000   \n",
       "50%             1971.000000            162.000000            170.000000   \n",
       "75%             1979.000000            190.000000            178.000000   \n",
       "max             2002.000000            552.000000            226.000000   \n",
       "\n",
       "       testResultMetricId  testResultMetricValue  \n",
       "count       207958.000000          207958.000000  \n",
       "mean        142562.489969              28.344196  \n",
       "std          80082.167168             241.416512  \n",
       "min             66.000000               0.000000  \n",
       "25%          53674.250000               0.130000  \n",
       "50%         161253.500000               1.000000  \n",
       "75%         216229.750000               6.300000  \n",
       "max         245354.000000           30316.670000  "
      ]
     },
     "execution_count": 9,
     "metadata": {},
     "output_type": "execute_result"
    }
   ],
   "source": [
    "df.describe()"
   ]
  },
  {
   "cell_type": "markdown",
   "metadata": {},
   "source": [
    "---\n",
    "# 2) Explorative data analysis\n",
    "\n",
    "To better understand the data, we will look at the proportion of gender, as well as positive and negative diagnosis:"
   ]
  },
  {
   "cell_type": "code",
   "execution_count": 10,
   "metadata": {},
   "outputs": [
    {
     "data": {
      "text/plain": [
       "participantSex  participantIsControl\n",
       "female          False                   124077\n",
       "                True                     19410\n",
       "male            False                    37798\n",
       "                True                     26673\n",
       "Name: participantIsControl, dtype: int64"
      ]
     },
     "execution_count": 10,
     "metadata": {},
     "output_type": "execute_result"
    }
   ],
   "source": [
    "df.groupby(['participantSex'])['participantIsControl'].value_counts()"
   ]
  },
  {
   "cell_type": "code",
   "execution_count": 11,
   "metadata": {},
   "outputs": [
    {
     "data": {
      "text/plain": [
       "Text(0.5, 1.0, 'participants per gender and control')"
      ]
     },
     "execution_count": 11,
     "metadata": {},
     "output_type": "execute_result"
    },
    {
     "data": {
      "image/png": "[encoded data removed]",
      "text/plain": [
       "<Figure size 720x360 with 1 Axes>"
      ]
     },
     "metadata": {
      "needs_background": "light"
     },
     "output_type": "display_data"
    }
   ],
   "source": [
    "fig = plt.figure(figsize=(10,5))\n",
    "sns.countplot(x = df['participantSex'], hue = df['participantIsControl'])\n",
    "plt.title(\"participants per gender and control\", fontsize = 15)"
   ]
  },
  {
   "cell_type": "markdown",
   "metadata": {},
   "source": [
    "Now, lets have a look where the participants come from:"
   ]
  },
  {
   "cell_type": "code",
   "execution_count": 12,
   "metadata": {},
   "outputs": [
    {
     "data": {
      "text/plain": [
       "participantSex  participantCountryOfResidence\n",
       "female          US                               75934\n",
       "                CA                               28719\n",
       "                DK                               25688\n",
       "                IT                                7714\n",
       "                CH                                2445\n",
       "                ES                                2299\n",
       "                AU                                 282\n",
       "                BE                                 254\n",
       "                FI                                  62\n",
       "                BR                                  38\n",
       "                CZ                                  35\n",
       "                PL                                  17\n",
       "male            US                               25598\n",
       "                CA                               14281\n",
       "                DK                               10965\n",
       "                IT                                6327\n",
       "                CH                                5831\n",
       "                ES                                1105\n",
       "                AU                                 210\n",
       "                CZ                                  54\n",
       "                BE                                  42\n",
       "                BR                                  38\n",
       "                PL                                  20\n",
       "Name: participantCountryOfResidence, dtype: int64"
      ]
     },
     "execution_count": 12,
     "metadata": {},
     "output_type": "execute_result"
    }
   ],
   "source": [
    "countries = df['participantCountryOfResidence'].value_counts()\n",
    "df.groupby(['participantSex'])['participantCountryOfResidence'].value_counts()"
   ]
  },
  {
   "cell_type": "code",
   "execution_count": 13,
   "metadata": {},
   "outputs": [
    {
     "data": {
      "text/plain": [
       "<function matplotlib.pyplot.show(*args, **kw)>"
      ]
     },
     "execution_count": 13,
     "metadata": {},
     "output_type": "execute_result"
    },
    {
     "data": {
      "image/png": "[encoded data removed]",
      "text/plain": [
       "<Figure size 1080x360 with 1 Axes>"
      ]
     },
     "metadata": {
      "needs_background": "light"
     },
     "output_type": "display_data"
    }
   ],
   "source": [
    "fig = plt.figure(figsize=(15,5))\n",
    "sns.countplot(x = df['participantCountryOfResidence'], hue = df['participantSex'])\n",
    "plt.title(\"participants per country and gender\", fontsize = 15)\n",
    "plt.show\n",
    "#my_circle=plt.Circle( (0,0), 0.7, color='white')\n",
    "#fig = plt.figure(figsize=(15,5))\n",
    "#plt.pie(countries.values, labels=countries.index,wedgeprops = { 'linewidth' : 7, 'edgecolor' : 'white' })\n",
    "#fig.gca().add_artist(my_circle)\n",
    "#plt.title(\"participants per country\", fontsize = 15)\n",
    "#plt.show()"
   ]
  },
  {
   "cell_type": "markdown",
   "metadata": {},
   "source": [
    "How are anthropomorphic data distributed among all participants?"
   ]
  },
  {
   "cell_type": "code",
   "execution_count": 14,
   "metadata": {},
   "outputs": [
    {
     "data": {
      "text/plain": [
       "<function matplotlib.pyplot.show(*args, **kw)>"
      ]
     },
     "execution_count": 14,
     "metadata": {},
     "output_type": "execute_result"
    },
    {
     "data": {
      "image/png": "[encoded data removed]",
      "text/plain": [
       "<Figure size 1080x360 with 3 Axes>"
      ]
     },
     "metadata": {
      "needs_background": "light"
     },
     "output_type": "display_data"
    }
   ],
   "source": [
    "fig = plt.figure(figsize=(15,5))\n",
    "ax1 = fig.add_subplot(131)\n",
    "ax2 = fig.add_subplot(132)\n",
    "ax3 = fig.add_subplot(133)\n",
    "sns.distplot(df['participantBirthYear'][(df['participantIsControl']==True)], kde=False, ax=ax1)\n",
    "sns.distplot(df['participantBirthYear'][(df['participantIsControl']==False)], color='orange', kde=False, ax=ax1)\n",
    "sns.distplot(df['participantHeightCms'][(df['participantIsControl']==True)], kde=False, ax=ax2)\n",
    "sns.distplot(df['participantHeightCms'][(df['participantIsControl']==False)], color='orange', kde=False, ax=ax2)\n",
    "sns.distplot(df['participantWeightLbs'][(df['participantIsControl']==True)], kde=False, ax=ax3)\n",
    "sns.distplot(df['participantWeightLbs'][(df['participantIsControl']==False)], color='orange', kde=False, ax=ax3)\n",
    "plt.show"
   ]
  },
  {
   "cell_type": "markdown",
   "metadata": {},
   "source": [
    "In these plots, the year of birth, the height and the weight are shown for diagnosed (orange) and control (blue) participants. We can see that people with a MS diagnosis are generelly older, smaller and with similar weight."
   ]
  },
  {
   "cell_type": "markdown",
   "metadata": {},
   "source": [
    "But before we move on, lets first do a little _feature engineering_ to derive more features from the existing data. One thing to add is the day of the week that is derived from the date of the test and if that day was a holiday in the particular country. I will also calculate the time that is gone since the participant registered."
   ]
  },
  {
   "cell_type": "code",
   "execution_count": 73,
   "metadata": {},
   "outputs": [],
   "source": [
    "df['Delta_test_register'] = df['testResultMetricCreatedOn'] - df['participantCreatedOn']\n",
    "df['Weekday_testResultCreatedOn'] = [x.isoweekday() for x in df['testResultMetricCreatedOn']]"
   ]
  },
  {
   "cell_type": "code",
   "execution_count": 74,
   "metadata": {},
   "outputs": [],
   "source": [
    "def HolidayCountry(country_in, date_in):\n",
    "    holidays_country = holidays.CountryHoliday(country_in)\n",
    "    is_holiday = date_in.date() in holidays_country\n",
    "    return is_holiday"
   ]
  },
  {
   "cell_type": "code",
   "execution_count": 75,
   "metadata": {},
   "outputs": [],
   "source": [
    "is_holi = []\n",
    "m = 0\n",
    "for x in df['testResultMetricCreatedOn']:\n",
    "    is_holi.append(HolidayCountry(df['participantCountryOfResidence'].iloc[m],x))\n",
    "df['Holiday_testResultCreatedOn'] = is_holi"
   ]
  },
  {
   "cell_type": "markdown",
   "metadata": {},
   "source": [
    "Now, lets have a look at the created test observations over the time of the dataset."
   ]
  },
  {
   "cell_type": "code",
   "execution_count": 85,
   "metadata": {},
   "outputs": [],
   "source": [
    "# create the number of observations per week for each subject\n",
    "num_subjects = len(df['floodlightOpenId'].unique())\n",
    "Delta_days = []\n",
    "Delta_weeks = []\n",
    "for x in df['Delta_test_register']:\n",
    "    days_ceil = x.ceil('D').days\n",
    "    Delta_days.append(days_ceil)\n",
    "    Delta_weeks.append(days_ceil//7)\n",
    "df['Delta_Dayss_test_register'] = Delta_days\n",
    "df['Delta_Weeks_test_register'] = Delta_weeks\n",
    "num_weeks = df['Delta_Weeks_test_register'].max()\n",
    "count_weeks = np.zeros((num_weeks,num_subjects)) # pre-define matrix\n",
    "j = 0\n",
    "weeks_subject = []\n",
    "week_counts = []\n",
    "for num, name in enumerate(df['floodlightOpenId'].unique()): # loop over all subjects\n",
    "    weeks_subject = df['Delta_Weeks_test_register'][(df['floodlightOpenId'] == name)]\n",
    "    week_counts = Counter(weeks_subject)\n",
    "    for i in week_counts: # loop over all entries\n",
    "        count_weeks[i-1,j] = week_counts[i]\n",
    "    j = j+1    "
   ]
  },
  {
   "cell_type": "markdown",
   "metadata": {},
   "source": [
    "To get an overview of observations per subject, we visualize the number of test performed per week."
   ]
  },
  {
   "cell_type": "code",
   "execution_count": 77,
   "metadata": {},
   "outputs": [
    {
     "data": {
      "text/plain": [
       "Text(0.5, 1.0, 'Number of weekly test results of all participants')"
      ]
     },
     "execution_count": 77,
     "metadata": {},
     "output_type": "execute_result"
    },
    {
     "data": {
      "image/png": "[encoded data removed]",
      "text/plain": [
       "<Figure size 1080x720 with 2 Axes>"
      ]
     },
     "metadata": {
      "needs_background": "light"
     },
     "output_type": "display_data"
    }
   ],
   "source": [
    "fig = plt.figure(figsize=(15,10))\n",
    "df_count_weeks = pd.DataFrame(data=count_weeks.transpose())\n",
    "df_count_weeks = df_count_weeks.add_prefix('Week ')\n",
    "ax = sns.heatmap(df_count_weeks,cmap = \"Greens\", vmax = 10, xticklabels=10, yticklabels=100)\n",
    "ax.invert_yaxis()\n",
    "plt.title('Number of weekly test results of all participants', fontsize = 15)"
   ]
  },
  {
   "cell_type": "markdown",
   "metadata": {},
   "source": [
    "This plot shows the activity of the particpants to perform test since they registered. Ideally, this plot would be roughly like a triangle, meaning that all participants logged multiple tests per week (without empty spaces). Instead, most participants performed the test in the first weeks. Howerver, some participants kept on performing the tests regularly, as seen by horizontal lines."
   ]
  },
  {
   "cell_type": "markdown",
   "metadata": {},
   "source": [
    "Moving on with the test names:"
   ]
  },
  {
   "cell_type": "code",
   "execution_count": null,
   "metadata": {},
   "outputs": [],
   "source": [
    "metric_Names = df['testName'].unique().astype(str)\n",
    "print(metric_Names)"
   ]
  },
  {
   "cell_type": "markdown",
   "metadata": {},
   "source": [
    "The Baseline Test will for now be excluded from the data set. However, to not lose the data, we create a new dataframe:"
   ]
  },
  {
   "cell_type": "code",
   "execution_count": 78,
   "metadata": {},
   "outputs": [],
   "source": [
    "df_baseline = df[(df['testName'] == 'Information Processing Speed Baseline Test')]\n",
    "df = df.drop(df[(df['testName'] == 'Information Processing Speed Baseline Test')].index)\n",
    "df.reset_index(drop=True);"
   ]
  },
  {
   "cell_type": "code",
   "execution_count": null,
   "metadata": {
    "scrolled": true
   },
   "outputs": [],
   "source": [
    "metric_Names = df['testName'].unique().astype(str)\n",
    "print(metric_Names)"
   ]
  },
  {
   "cell_type": "markdown",
   "metadata": {},
   "source": [
    "Now, I start plotting the individual metrics to check if diagnosed and control participants differ. The test metrics are:"
   ]
  },
  {
   "cell_type": "code",
   "execution_count": null,
   "metadata": {},
   "outputs": [],
   "source": [
    "metric_labels = df['testMetricName'].unique().astype(str)\n",
    "print(metric_labels)"
   ]
  },
  {
   "cell_type": "markdown",
   "metadata": {},
   "source": [
    "Notice that the number of observations for each metric differs:"
   ]
  },
  {
   "cell_type": "code",
   "execution_count": null,
   "metadata": {},
   "outputs": [],
   "source": [
    "fig = plt.figure(figsize=(15,5))\n",
    "sns.countplot(x = df['testMetricName'], hue = df['participantIsControl'])\n",
    "plt.title(\"number of test results per metric\", fontsize = 15)\n",
    "plt.xticks(rotation=90)\n",
    "plt.show"
   ]
  },
  {
   "cell_type": "markdown",
   "metadata": {},
   "source": [
    "Since the test result data is widely spread, we first exclude the outliers in order to get a better picture about both groups. Here, I argue that the test results are affected by measurement error; since the data was collected by a smartphone and in uncontrolled scenarios. However, if you want to visualze the whole dataset, set the 'hide_out' parameter to 0."
   ]
  },
  {
   "cell_type": "code",
   "execution_count": 79,
   "metadata": {},
   "outputs": [],
   "source": [
    "hide_out = 1 # 0: include, 1: exclude\n",
    "def exclude_outliers(data_in): # uses the common 1.5*IQR criterion to exclude outliers\n",
    "    Q1 =  data_in['testResultMetricValue'].quantile(0.25)\n",
    "    Q3 =  data_in['testResultMetricValue'].quantile(0.75)\n",
    "    IQR = Q3 - Q1\n",
    "    data_out = data_in.drop(data_in[(data_in['testResultMetricValue'] < Q1-1.5*IQR ) | (data_in['testResultMetricValue'] > Q3+1.5*IQR)]['testResultMetricValue'].index)   \n",
    "    return data_out"
   ]
  },
  {
   "cell_type": "code",
   "execution_count": 80,
   "metadata": {},
   "outputs": [
    {
     "ename": "NameError",
     "evalue": "name 'metric_labels' is not defined",
     "output_type": "error",
     "traceback": [
      "\u001b[0;31m---------------------------------------------------------------------------\u001b[0m",
      "\u001b[0;31mNameError\u001b[0m                                 Traceback (most recent call last)",
      "\u001b[0;32m<ipython-input-80-f1e6f375f344>\u001b[0m in \u001b[0;36m<module>\u001b[0;34m\u001b[0m\n\u001b[1;32m      1\u001b[0m \u001b[0mm\u001b[0m \u001b[0;34m=\u001b[0m \u001b[0;36m0\u001b[0m\u001b[0;34m\u001b[0m\u001b[0;34m\u001b[0m\u001b[0m\n\u001b[0;32m----> 2\u001b[0;31m \u001b[0mdata_metrics\u001b[0m \u001b[0;34m=\u001b[0m \u001b[0mnp\u001b[0m\u001b[0;34m.\u001b[0m\u001b[0mempty\u001b[0m\u001b[0;34m(\u001b[0m\u001b[0;34m(\u001b[0m\u001b[0mlen\u001b[0m\u001b[0;34m(\u001b[0m\u001b[0mdf\u001b[0m\u001b[0;34m)\u001b[0m\u001b[0;34m,\u001b[0m\u001b[0mlen\u001b[0m\u001b[0;34m(\u001b[0m\u001b[0mmetric_labels\u001b[0m\u001b[0;34m)\u001b[0m\u001b[0;34m)\u001b[0m\u001b[0;34m)\u001b[0m \u001b[0;31m# pre-define matrix\u001b[0m\u001b[0;34m\u001b[0m\u001b[0;34m\u001b[0m\u001b[0m\n\u001b[0m\u001b[1;32m      3\u001b[0m \u001b[0mdata_metrics\u001b[0m\u001b[0;34m[\u001b[0m\u001b[0;34m:\u001b[0m\u001b[0;34m]\u001b[0m \u001b[0;34m=\u001b[0m \u001b[0mnp\u001b[0m\u001b[0;34m.\u001b[0m\u001b[0mnan\u001b[0m\u001b[0;34m\u001b[0m\u001b[0;34m\u001b[0m\u001b[0m\n\u001b[1;32m      4\u001b[0m \u001b[0;32mfor\u001b[0m \u001b[0mi\u001b[0m \u001b[0;32min\u001b[0m \u001b[0mmetric_labels\u001b[0m\u001b[0;34m:\u001b[0m \u001b[0;31m# loop through all metrics\u001b[0m\u001b[0;34m\u001b[0m\u001b[0;34m\u001b[0m\u001b[0m\n\u001b[1;32m      5\u001b[0m     \u001b[0mdata_plot\u001b[0m \u001b[0;34m=\u001b[0m \u001b[0mdf\u001b[0m\u001b[0;34m[\u001b[0m\u001b[0;34m(\u001b[0m\u001b[0mdf\u001b[0m\u001b[0;34m[\u001b[0m\u001b[0;34m'testMetricName'\u001b[0m\u001b[0;34m]\u001b[0m \u001b[0;34m==\u001b[0m \u001b[0mi\u001b[0m\u001b[0;34m)\u001b[0m\u001b[0;34m]\u001b[0m\u001b[0;34m\u001b[0m\u001b[0;34m\u001b[0m\u001b[0m\n",
      "\u001b[0;31mNameError\u001b[0m: name 'metric_labels' is not defined"
     ]
    }
   ],
   "source": [
    "m = 0\n",
    "data_metrics = np.empty((len(df),len(metric_labels))) # pre-define matrix\n",
    "data_metrics[:] = np.nan\n",
    "for i in metric_labels: # loop through all metrics\n",
    "    data_plot = df[(df['testMetricName'] == i)]\n",
    "    samples = data_plot.shape\n",
    "    if hide_out == 1: # check if data should be excluded\n",
    "        data_plot = exclude_outliers(data_plot)\n",
    "    num_plot = len(data_plot[data_plot['participantIsControl'] == False])    \n",
    "    data_metrics[:num_plot,m] = data_plot['testResultMetricValue'][(data_plot['participantIsControl'] == False)] # for corrlations\n",
    "    # plot metrics\n",
    "    m = m+1\n",
    "    fig = plt.figure(m)\n",
    "    ax = sns.boxplot(x=\"participantIsControl\", y=\"testResultMetricValue\", data=data_plot, fliersize = False)\n",
    "    \n",
    "    # Calculate number of obs per group & median to position labels\n",
    "    medians = data_plot.groupby(['participantIsControl'])['testResultMetricValue'].median().values\n",
    "    means = data_plot.groupby(['participantIsControl'])['testResultMetricValue'].mean().values\n",
    "    nobs = data_plot['participantIsControl'].value_counts().values\n",
    "    nobs = [x for x in nobs.tolist()]\n",
    "    nobs = [i for i in nobs]\n",
    "    print(\"samples MS: %d, samples Controls: %d\" % (nobs[0],nobs[1]))\n",
    "    print(\"Mean MS: %2.2f, Mean Controls: %2.2f\" % (means[0],means[1]))\n",
    "    plt.title(i, fontsize = 15)\n",
    "    plt.show()"
   ]
  },
  {
   "cell_type": "markdown",
   "metadata": {},
   "source": [
    "With these plots, we can answer the first research question:  \n",
    "**_'Which of the collected metrics show differences between people with multiple sclerosis and controls?'_**\n",
    "\n",
    "- participants with MS responded with lower mood than controls\n",
    "- appart from that no clear difference can be found\n",
    "---"
   ]
  },
  {
   "cell_type": "markdown",
   "metadata": {},
   "source": [
    "Now lets calculate the pearson correlations between the different metrics. For this, we use the dataset with excluded outliers because outliers can distord these calculations. Further, we need also drop the categorial feature 'Hand Used' since this is not really helpful for this analysis."
   ]
  },
  {
   "cell_type": "code",
   "execution_count": null,
   "metadata": {},
   "outputs": [],
   "source": [
    "df_metrics = pd.DataFrame(data=data_metrics,columns=metric_labels)\n",
    "df_metrics.drop(columns=['Hand Used'],inplace = True)"
   ]
  },
  {
   "cell_type": "code",
   "execution_count": null,
   "metadata": {},
   "outputs": [],
   "source": [
    "plt.figure(figsize=(30, 25))\n",
    "p = sns.heatmap(df_metrics.corr(), annot=True)"
   ]
  },
  {
   "cell_type": "markdown",
   "metadata": {},
   "source": [
    "To answer the second research question:  \n",
    "**_'Does the mood (or self-reported well-being) correlate with some of the gathered metrics?'_**\n",
    "\n",
    "- No, only very poor correlations are found\n",
    "- Also, no other correlations between metrics can be found. The only exception is the perfect correlation of 'Mean Hausdorf Distance Best' and the 'Top to Bottom Hausdorf Distance Best'. This, however, is due to the fact that for both metrics contain almost no variance. One should check how these values are calculated in the raw dataset because this result suggests that both metrics are inherently correlated, e.g. in the way they are calculated. \n",
    "\n",
    "---"
   ]
  },
  {
   "cell_type": "code",
   "execution_count": 86,
   "metadata": {},
   "outputs": [
    {
     "name": "stdout",
     "output_type": "stream",
     "text": [
      "Stored 'df' (DataFrame)\n"
     ]
    }
   ],
   "source": [
    "%store df"
   ]
  },
  {
   "cell_type": "markdown",
   "metadata": {},
   "source": []
  },
  {
   "cell_type": "code",
   "execution_count": null,
   "metadata": {},
   "outputs": [],
   "source": []
  },
  {
   "cell_type": "code",
   "execution_count": null,
   "metadata": {},
   "outputs": [],
   "source": [
    "\n"
   ]
  },
  {
   "cell_type": "code",
   "execution_count": null,
   "metadata": {},
   "outputs": [],
   "source": []
  },
  {
   "cell_type": "code",
   "execution_count": null,
   "metadata": {},
   "outputs": [],
   "source": []
  },
  {
   "cell_type": "code",
   "execution_count": null,
   "metadata": {},
   "outputs": [],
   "source": []
  },
  {
   "cell_type": "code",
   "execution_count": null,
   "metadata": {},
   "outputs": [],
   "source": []
  }
 ],
 "metadata": {
  "kernelspec": {
   "display_name": "Python 3",
   "language": "python",
   "name": "python3"
  },
  "language_info": {
   "codemirror_mode": {
    "name": "ipython",
    "version": 3
   },
   "file_extension": ".py",
   "mimetype": "text/x-python",
   "name": "python",
   "nbconvert_exporter": "python",
   "pygments_lexer": "ipython3",
   "version": "3.7.3"
  }
 },
 "nbformat": 4,
 "nbformat_minor": 2
}
