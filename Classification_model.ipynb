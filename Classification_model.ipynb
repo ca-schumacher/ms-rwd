{
 "cells": [
  {
   "cell_type": "markdown",
   "metadata": {},
   "source": [
    "# Explorative data analysis of real world data on multiple sclerosis"
   ]
  },
  {
   "cell_type": "markdown",
   "metadata": {},
   "source": [
    "This script extends the first script of that analysed the dataset. In this script here, I will train a model to address the following research questions:\n",
    "\n",
    "- Based on the test results, can I classify subjects into diagnosed and control group?\n",
    "- Which of the used methods is best suited for this classification problem?\n",
    "- Which metric is most important to predict the participant group?\n",
    "---"
   ]
  },
  {
   "cell_type": "markdown",
   "metadata": {},
   "source": [
    "## 3) Modelling"
   ]
  },
  {
   "cell_type": "markdown",
   "metadata": {},
   "source": [
    "Importing required libraries:"
   ]
  },
  {
   "cell_type": "code",
   "execution_count": 1,
   "metadata": {},
   "outputs": [],
   "source": [
    "%matplotlib inline\n",
    "import numpy as np\n",
    "import matplotlib.pyplot as plt\n",
    "import pandas as pd\n",
    "import seaborn as sns\n",
    "import datetime\n",
    "from datetime import date\n",
    "from sklearn.model_selection import train_test_split, GridSearchCV, StratifiedKFold\n",
    "from sklearn.preprocessing import LabelEncoder, OneHotEncoder, StandardScaler\n",
    "from sklearn.multiclass import OneVsRestClassifier\n",
    "import math\n",
    "\n",
    "from sklearn.linear_model import LogisticRegression\n",
    "from sklearn.neighbors import KNeighborsClassifier\n",
    "from sklearn.svm import SVC\n",
    "from sklearn.naive_bayes import GaussianNB\n",
    "from sklearn.ensemble import BaggingClassifier, RandomForestClassifier\n",
    "from sklearn import metrics\n",
    "from sklearn.metrics import classification_report, confusion_matrix, roc_curve, auc\n",
    "\n",
    "from treeinterpreter import treeinterpreter as ti\n",
    "\n",
    "#from sklearn.metrics import confusion_matrix, roc_curve, \n",
    "sns.set_palette(\"RdBu_r\", 7) # this sets the color palette\n",
    "import warnings\n",
    "from warnings import filterwarnings\n",
    "warnings.simplefilter(action='ignore', category=FutureWarning)\n",
    "from sklearn.exceptions import DataConversionWarning\n",
    "warnings.filterwarnings(action='ignore')#, category=DataConversionWarning)\n",
    "pd.options.mode.chained_assignment = None  # default='warn'\n",
    "pd.set_option('display.max_columns', None) # display all columns"
   ]
  },
  {
   "cell_type": "code",
   "execution_count": 2,
   "metadata": {},
   "outputs": [],
   "source": [
    "%store -r df # get dataframe from EDA script\n",
    "df_model = df"
   ]
  },
  {
   "cell_type": "markdown",
   "metadata": {},
   "source": [
    "Dropping unnecessary and Timestamp columns:"
   ]
  },
  {
   "cell_type": "code",
   "execution_count": 5,
   "metadata": {},
   "outputs": [],
   "source": [
    "df_model = df_model.drop(columns=['floodlightOpenId','participantCreatedOn','testCode','testMetricCode','participantIsControl','testStartedAt','testEndedAt','testResultMetricCreatedOn','Delta_test_register'])"
   ]
  },
  {
   "cell_type": "markdown",
   "metadata": {},
   "source": [
    "Defining the features and dependent variable:"
   ]
  },
  {
   "cell_type": "code",
   "execution_count": 6,
   "metadata": {},
   "outputs": [
    {
     "data": {
      "text/html": [
       "<div>\n",
       "<style scoped>\n",
       "    .dataframe tbody tr th:only-of-type {\n",
       "        vertical-align: middle;\n",
       "    }\n",
       "\n",
       "    .dataframe tbody tr th {\n",
       "        vertical-align: top;\n",
       "    }\n",
       "\n",
       "    .dataframe thead th {\n",
       "        text-align: right;\n",
       "    }\n",
       "</style>\n",
       "<table border=\"1\" class=\"dataframe\">\n",
       "  <thead>\n",
       "    <tr style=\"text-align: right;\">\n",
       "      <th></th>\n",
       "      <th>participantCountryOfResidence</th>\n",
       "      <th>participantSex</th>\n",
       "      <th>participantBirthYear</th>\n",
       "      <th>participantWeightLbs</th>\n",
       "      <th>participantHeightCms</th>\n",
       "      <th>testName</th>\n",
       "      <th>testMetricName</th>\n",
       "      <th>testResultMetricId</th>\n",
       "      <th>testResultMetricValue</th>\n",
       "      <th>Weekday_testResultCreatedOn</th>\n",
       "      <th>Holiday_testResultCreatedOn</th>\n",
       "      <th>Delta_Weeks_test_register</th>\n",
       "      <th>Delta_Dayss_test_register</th>\n",
       "    </tr>\n",
       "  </thead>\n",
       "  <tbody>\n",
       "    <tr>\n",
       "      <th>0</th>\n",
       "      <td>US</td>\n",
       "      <td>male</td>\n",
       "      <td>1966</td>\n",
       "      <td>159.0</td>\n",
       "      <td>178.0</td>\n",
       "      <td>Daily Questions</td>\n",
       "      <td>Mood Response</td>\n",
       "      <td>115524</td>\n",
       "      <td>4.00</td>\n",
       "      <td>1</td>\n",
       "      <td>False</td>\n",
       "      <td>0</td>\n",
       "      <td>1</td>\n",
       "    </tr>\n",
       "    <tr>\n",
       "      <th>1</th>\n",
       "      <td>US</td>\n",
       "      <td>male</td>\n",
       "      <td>1966</td>\n",
       "      <td>159.0</td>\n",
       "      <td>178.0</td>\n",
       "      <td>Daily Questions</td>\n",
       "      <td>Mood Response</td>\n",
       "      <td>116040</td>\n",
       "      <td>5.00</td>\n",
       "      <td>3</td>\n",
       "      <td>False</td>\n",
       "      <td>0</td>\n",
       "      <td>3</td>\n",
       "    </tr>\n",
       "    <tr>\n",
       "      <th>4</th>\n",
       "      <td>US</td>\n",
       "      <td>male</td>\n",
       "      <td>1966</td>\n",
       "      <td>159.0</td>\n",
       "      <td>178.0</td>\n",
       "      <td>IPS</td>\n",
       "      <td>Correct Responses</td>\n",
       "      <td>116043</td>\n",
       "      <td>39.00</td>\n",
       "      <td>3</td>\n",
       "      <td>False</td>\n",
       "      <td>0</td>\n",
       "      <td>3</td>\n",
       "    </tr>\n",
       "    <tr>\n",
       "      <th>5</th>\n",
       "      <td>US</td>\n",
       "      <td>male</td>\n",
       "      <td>1966</td>\n",
       "      <td>159.0</td>\n",
       "      <td>178.0</td>\n",
       "      <td>IPS</td>\n",
       "      <td>Response Time Average</td>\n",
       "      <td>116044</td>\n",
       "      <td>2.31</td>\n",
       "      <td>3</td>\n",
       "      <td>False</td>\n",
       "      <td>0</td>\n",
       "      <td>3</td>\n",
       "    </tr>\n",
       "    <tr>\n",
       "      <th>6</th>\n",
       "      <td>US</td>\n",
       "      <td>male</td>\n",
       "      <td>1966</td>\n",
       "      <td>159.0</td>\n",
       "      <td>178.0</td>\n",
       "      <td>Pinching</td>\n",
       "      <td>Successful Pinches</td>\n",
       "      <td>116045</td>\n",
       "      <td>27.00</td>\n",
       "      <td>3</td>\n",
       "      <td>False</td>\n",
       "      <td>0</td>\n",
       "      <td>3</td>\n",
       "    </tr>\n",
       "  </tbody>\n",
       "</table>\n",
       "</div>"
      ],
      "text/plain": [
       "  participantCountryOfResidence participantSex  participantBirthYear  \\\n",
       "0                            US           male                  1966   \n",
       "1                            US           male                  1966   \n",
       "4                            US           male                  1966   \n",
       "5                            US           male                  1966   \n",
       "6                            US           male                  1966   \n",
       "\n",
       "   participantWeightLbs  participantHeightCms         testName  \\\n",
       "0                 159.0                 178.0  Daily Questions   \n",
       "1                 159.0                 178.0  Daily Questions   \n",
       "4                 159.0                 178.0              IPS   \n",
       "5                 159.0                 178.0              IPS   \n",
       "6                 159.0                 178.0         Pinching   \n",
       "\n",
       "          testMetricName  testResultMetricId  testResultMetricValue  \\\n",
       "0          Mood Response              115524                   4.00   \n",
       "1          Mood Response              116040                   5.00   \n",
       "4      Correct Responses              116043                  39.00   \n",
       "5  Response Time Average              116044                   2.31   \n",
       "6     Successful Pinches              116045                  27.00   \n",
       "\n",
       "   Weekday_testResultCreatedOn  Holiday_testResultCreatedOn  \\\n",
       "0                            1                        False   \n",
       "1                            3                        False   \n",
       "4                            3                        False   \n",
       "5                            3                        False   \n",
       "6                            3                        False   \n",
       "\n",
       "   Delta_Weeks_test_register  Delta_Dayss_test_register  \n",
       "0                          0                          1  \n",
       "1                          0                          3  \n",
       "4                          0                          3  \n",
       "5                          0                          3  \n",
       "6                          0                          3  "
      ]
     },
     "execution_count": 6,
     "metadata": {},
     "output_type": "execute_result"
    }
   ],
   "source": [
    "X = df_model\n",
    "X.head()"
   ]
  },
  {
   "cell_type": "code",
   "execution_count": 25,
   "metadata": {},
   "outputs": [],
   "source": [
    "y = df['participantIsControl']\n",
    "y = y.reindex_like(X)"
   ]
  },
  {
   "cell_type": "markdown",
   "metadata": {},
   "source": [
    "One hot encoding categorial variables:"
   ]
  },
  {
   "cell_type": "code",
   "execution_count": 8,
   "metadata": {},
   "outputs": [
    {
     "data": {
      "text/html": [
       "<div>\n",
       "<style scoped>\n",
       "    .dataframe tbody tr th:only-of-type {\n",
       "        vertical-align: middle;\n",
       "    }\n",
       "\n",
       "    .dataframe tbody tr th {\n",
       "        vertical-align: top;\n",
       "    }\n",
       "\n",
       "    .dataframe thead th {\n",
       "        text-align: right;\n",
       "    }\n",
       "</style>\n",
       "<table border=\"1\" class=\"dataframe\">\n",
       "  <thead>\n",
       "    <tr style=\"text-align: right;\">\n",
       "      <th></th>\n",
       "      <th>Country_BE</th>\n",
       "      <th>Country_BR</th>\n",
       "      <th>Country_CA</th>\n",
       "      <th>Country_CH</th>\n",
       "      <th>Country_CZ</th>\n",
       "      <th>Country_DK</th>\n",
       "      <th>Country_ES</th>\n",
       "      <th>Country_FI</th>\n",
       "      <th>Country_IT</th>\n",
       "      <th>Country_PL</th>\n",
       "      <th>Country_US</th>\n",
       "      <th>Sex_male</th>\n",
       "      <th>testName_Draw A Shape</th>\n",
       "      <th>testName_Five UTurn Test</th>\n",
       "      <th>testName_IPS</th>\n",
       "      <th>testName_Mobility</th>\n",
       "      <th>testName_Pinching</th>\n",
       "      <th>testName_Static Balance</th>\n",
       "      <th>testName_Two Minute Walk Test</th>\n",
       "      <th>testMetric_Circle Hausdorff Distance Best</th>\n",
       "      <th>testMetric_Correct Responses</th>\n",
       "      <th>testMetric_Figure 8 Hausdorff Distance Best</th>\n",
       "      <th>testMetric_Hand Used</th>\n",
       "      <th>testMetric_Life Space Daily</th>\n",
       "      <th>testMetric_Mean Hausdorff Distance Best</th>\n",
       "      <th>testMetric_Mood Response</th>\n",
       "      <th>testMetric_Number of shapes drawn correctly</th>\n",
       "      <th>testMetric_Response Time Average</th>\n",
       "      <th>testMetric_Spiral Hausdorff Distance Best</th>\n",
       "      <th>testMetric_Square Hausdorff Distance Best</th>\n",
       "      <th>testMetric_Steps</th>\n",
       "      <th>testMetric_Successful Pinches</th>\n",
       "      <th>testMetric_Sway Path</th>\n",
       "      <th>testMetric_Top to bottom Hausdorff Distance Best</th>\n",
       "      <th>testMetric_Turn Speed Average</th>\n",
       "      <th>testMetric_Turns</th>\n",
       "      <th>Weekday_2</th>\n",
       "      <th>Weekday_3</th>\n",
       "      <th>Weekday_4</th>\n",
       "      <th>Weekday_5</th>\n",
       "      <th>Weekday_6</th>\n",
       "      <th>Weekday_7</th>\n",
       "      <th>Holiday_True</th>\n",
       "      <th>participantBirthYear</th>\n",
       "      <th>participantWeightLbs</th>\n",
       "      <th>participantHeightCms</th>\n",
       "      <th>testResultMetricValue</th>\n",
       "      <th>Delta_Weeks_test_register</th>\n",
       "      <th>Delta_Dayss_test_register</th>\n",
       "    </tr>\n",
       "  </thead>\n",
       "  <tbody>\n",
       "    <tr>\n",
       "      <th>0</th>\n",
       "      <td>0</td>\n",
       "      <td>0</td>\n",
       "      <td>0</td>\n",
       "      <td>0</td>\n",
       "      <td>0</td>\n",
       "      <td>0</td>\n",
       "      <td>0</td>\n",
       "      <td>0</td>\n",
       "      <td>0</td>\n",
       "      <td>0</td>\n",
       "      <td>1</td>\n",
       "      <td>1</td>\n",
       "      <td>0</td>\n",
       "      <td>0</td>\n",
       "      <td>0</td>\n",
       "      <td>0</td>\n",
       "      <td>0</td>\n",
       "      <td>0</td>\n",
       "      <td>0</td>\n",
       "      <td>0</td>\n",
       "      <td>0</td>\n",
       "      <td>0</td>\n",
       "      <td>0</td>\n",
       "      <td>0</td>\n",
       "      <td>0</td>\n",
       "      <td>1</td>\n",
       "      <td>0</td>\n",
       "      <td>0</td>\n",
       "      <td>0</td>\n",
       "      <td>0</td>\n",
       "      <td>0</td>\n",
       "      <td>0</td>\n",
       "      <td>0</td>\n",
       "      <td>0</td>\n",
       "      <td>0</td>\n",
       "      <td>0</td>\n",
       "      <td>0</td>\n",
       "      <td>0</td>\n",
       "      <td>0</td>\n",
       "      <td>0</td>\n",
       "      <td>0</td>\n",
       "      <td>0</td>\n",
       "      <td>0</td>\n",
       "      <td>1966</td>\n",
       "      <td>159.0</td>\n",
       "      <td>178.0</td>\n",
       "      <td>4.00</td>\n",
       "      <td>0</td>\n",
       "      <td>1</td>\n",
       "    </tr>\n",
       "    <tr>\n",
       "      <th>1</th>\n",
       "      <td>0</td>\n",
       "      <td>0</td>\n",
       "      <td>0</td>\n",
       "      <td>0</td>\n",
       "      <td>0</td>\n",
       "      <td>0</td>\n",
       "      <td>0</td>\n",
       "      <td>0</td>\n",
       "      <td>0</td>\n",
       "      <td>0</td>\n",
       "      <td>1</td>\n",
       "      <td>1</td>\n",
       "      <td>0</td>\n",
       "      <td>0</td>\n",
       "      <td>0</td>\n",
       "      <td>0</td>\n",
       "      <td>0</td>\n",
       "      <td>0</td>\n",
       "      <td>0</td>\n",
       "      <td>0</td>\n",
       "      <td>0</td>\n",
       "      <td>0</td>\n",
       "      <td>0</td>\n",
       "      <td>0</td>\n",
       "      <td>0</td>\n",
       "      <td>1</td>\n",
       "      <td>0</td>\n",
       "      <td>0</td>\n",
       "      <td>0</td>\n",
       "      <td>0</td>\n",
       "      <td>0</td>\n",
       "      <td>0</td>\n",
       "      <td>0</td>\n",
       "      <td>0</td>\n",
       "      <td>0</td>\n",
       "      <td>0</td>\n",
       "      <td>0</td>\n",
       "      <td>1</td>\n",
       "      <td>0</td>\n",
       "      <td>0</td>\n",
       "      <td>0</td>\n",
       "      <td>0</td>\n",
       "      <td>0</td>\n",
       "      <td>1966</td>\n",
       "      <td>159.0</td>\n",
       "      <td>178.0</td>\n",
       "      <td>5.00</td>\n",
       "      <td>0</td>\n",
       "      <td>3</td>\n",
       "    </tr>\n",
       "    <tr>\n",
       "      <th>2</th>\n",
       "      <td>0</td>\n",
       "      <td>0</td>\n",
       "      <td>0</td>\n",
       "      <td>0</td>\n",
       "      <td>0</td>\n",
       "      <td>0</td>\n",
       "      <td>0</td>\n",
       "      <td>0</td>\n",
       "      <td>0</td>\n",
       "      <td>0</td>\n",
       "      <td>1</td>\n",
       "      <td>1</td>\n",
       "      <td>0</td>\n",
       "      <td>0</td>\n",
       "      <td>1</td>\n",
       "      <td>0</td>\n",
       "      <td>0</td>\n",
       "      <td>0</td>\n",
       "      <td>0</td>\n",
       "      <td>0</td>\n",
       "      <td>1</td>\n",
       "      <td>0</td>\n",
       "      <td>0</td>\n",
       "      <td>0</td>\n",
       "      <td>0</td>\n",
       "      <td>0</td>\n",
       "      <td>0</td>\n",
       "      <td>0</td>\n",
       "      <td>0</td>\n",
       "      <td>0</td>\n",
       "      <td>0</td>\n",
       "      <td>0</td>\n",
       "      <td>0</td>\n",
       "      <td>0</td>\n",
       "      <td>0</td>\n",
       "      <td>0</td>\n",
       "      <td>0</td>\n",
       "      <td>1</td>\n",
       "      <td>0</td>\n",
       "      <td>0</td>\n",
       "      <td>0</td>\n",
       "      <td>0</td>\n",
       "      <td>0</td>\n",
       "      <td>1966</td>\n",
       "      <td>159.0</td>\n",
       "      <td>178.0</td>\n",
       "      <td>39.00</td>\n",
       "      <td>0</td>\n",
       "      <td>3</td>\n",
       "    </tr>\n",
       "    <tr>\n",
       "      <th>3</th>\n",
       "      <td>0</td>\n",
       "      <td>0</td>\n",
       "      <td>0</td>\n",
       "      <td>0</td>\n",
       "      <td>0</td>\n",
       "      <td>0</td>\n",
       "      <td>0</td>\n",
       "      <td>0</td>\n",
       "      <td>0</td>\n",
       "      <td>0</td>\n",
       "      <td>1</td>\n",
       "      <td>1</td>\n",
       "      <td>0</td>\n",
       "      <td>0</td>\n",
       "      <td>1</td>\n",
       "      <td>0</td>\n",
       "      <td>0</td>\n",
       "      <td>0</td>\n",
       "      <td>0</td>\n",
       "      <td>0</td>\n",
       "      <td>0</td>\n",
       "      <td>0</td>\n",
       "      <td>0</td>\n",
       "      <td>0</td>\n",
       "      <td>0</td>\n",
       "      <td>0</td>\n",
       "      <td>0</td>\n",
       "      <td>1</td>\n",
       "      <td>0</td>\n",
       "      <td>0</td>\n",
       "      <td>0</td>\n",
       "      <td>0</td>\n",
       "      <td>0</td>\n",
       "      <td>0</td>\n",
       "      <td>0</td>\n",
       "      <td>0</td>\n",
       "      <td>0</td>\n",
       "      <td>1</td>\n",
       "      <td>0</td>\n",
       "      <td>0</td>\n",
       "      <td>0</td>\n",
       "      <td>0</td>\n",
       "      <td>0</td>\n",
       "      <td>1966</td>\n",
       "      <td>159.0</td>\n",
       "      <td>178.0</td>\n",
       "      <td>2.31</td>\n",
       "      <td>0</td>\n",
       "      <td>3</td>\n",
       "    </tr>\n",
       "    <tr>\n",
       "      <th>4</th>\n",
       "      <td>0</td>\n",
       "      <td>0</td>\n",
       "      <td>0</td>\n",
       "      <td>0</td>\n",
       "      <td>0</td>\n",
       "      <td>0</td>\n",
       "      <td>0</td>\n",
       "      <td>0</td>\n",
       "      <td>0</td>\n",
       "      <td>0</td>\n",
       "      <td>1</td>\n",
       "      <td>1</td>\n",
       "      <td>0</td>\n",
       "      <td>0</td>\n",
       "      <td>0</td>\n",
       "      <td>0</td>\n",
       "      <td>1</td>\n",
       "      <td>0</td>\n",
       "      <td>0</td>\n",
       "      <td>0</td>\n",
       "      <td>0</td>\n",
       "      <td>0</td>\n",
       "      <td>0</td>\n",
       "      <td>0</td>\n",
       "      <td>0</td>\n",
       "      <td>0</td>\n",
       "      <td>0</td>\n",
       "      <td>0</td>\n",
       "      <td>0</td>\n",
       "      <td>0</td>\n",
       "      <td>0</td>\n",
       "      <td>1</td>\n",
       "      <td>0</td>\n",
       "      <td>0</td>\n",
       "      <td>0</td>\n",
       "      <td>0</td>\n",
       "      <td>0</td>\n",
       "      <td>1</td>\n",
       "      <td>0</td>\n",
       "      <td>0</td>\n",
       "      <td>0</td>\n",
       "      <td>0</td>\n",
       "      <td>0</td>\n",
       "      <td>1966</td>\n",
       "      <td>159.0</td>\n",
       "      <td>178.0</td>\n",
       "      <td>27.00</td>\n",
       "      <td>0</td>\n",
       "      <td>3</td>\n",
       "    </tr>\n",
       "  </tbody>\n",
       "</table>\n",
       "</div>"
      ],
      "text/plain": [
       "   Country_BE  Country_BR  Country_CA  Country_CH  Country_CZ  Country_DK  \\\n",
       "0           0           0           0           0           0           0   \n",
       "1           0           0           0           0           0           0   \n",
       "2           0           0           0           0           0           0   \n",
       "3           0           0           0           0           0           0   \n",
       "4           0           0           0           0           0           0   \n",
       "\n",
       "   Country_ES  Country_FI  Country_IT  Country_PL  Country_US  Sex_male  \\\n",
       "0           0           0           0           0           1         1   \n",
       "1           0           0           0           0           1         1   \n",
       "2           0           0           0           0           1         1   \n",
       "3           0           0           0           0           1         1   \n",
       "4           0           0           0           0           1         1   \n",
       "\n",
       "   testName_Draw A Shape  testName_Five UTurn Test  testName_IPS  \\\n",
       "0                      0                         0             0   \n",
       "1                      0                         0             0   \n",
       "2                      0                         0             1   \n",
       "3                      0                         0             1   \n",
       "4                      0                         0             0   \n",
       "\n",
       "   testName_Mobility  testName_Pinching  testName_Static Balance  \\\n",
       "0                  0                  0                        0   \n",
       "1                  0                  0                        0   \n",
       "2                  0                  0                        0   \n",
       "3                  0                  0                        0   \n",
       "4                  0                  1                        0   \n",
       "\n",
       "   testName_Two Minute Walk Test  testMetric_Circle Hausdorff Distance Best  \\\n",
       "0                              0                                          0   \n",
       "1                              0                                          0   \n",
       "2                              0                                          0   \n",
       "3                              0                                          0   \n",
       "4                              0                                          0   \n",
       "\n",
       "   testMetric_Correct Responses  testMetric_Figure 8 Hausdorff Distance Best  \\\n",
       "0                             0                                            0   \n",
       "1                             0                                            0   \n",
       "2                             1                                            0   \n",
       "3                             0                                            0   \n",
       "4                             0                                            0   \n",
       "\n",
       "   testMetric_Hand Used  testMetric_Life Space Daily  \\\n",
       "0                     0                            0   \n",
       "1                     0                            0   \n",
       "2                     0                            0   \n",
       "3                     0                            0   \n",
       "4                     0                            0   \n",
       "\n",
       "   testMetric_Mean Hausdorff Distance Best  testMetric_Mood Response  \\\n",
       "0                                        0                         1   \n",
       "1                                        0                         1   \n",
       "2                                        0                         0   \n",
       "3                                        0                         0   \n",
       "4                                        0                         0   \n",
       "\n",
       "   testMetric_Number of shapes drawn correctly  \\\n",
       "0                                            0   \n",
       "1                                            0   \n",
       "2                                            0   \n",
       "3                                            0   \n",
       "4                                            0   \n",
       "\n",
       "   testMetric_Response Time Average  \\\n",
       "0                                 0   \n",
       "1                                 0   \n",
       "2                                 0   \n",
       "3                                 1   \n",
       "4                                 0   \n",
       "\n",
       "   testMetric_Spiral Hausdorff Distance Best  \\\n",
       "0                                          0   \n",
       "1                                          0   \n",
       "2                                          0   \n",
       "3                                          0   \n",
       "4                                          0   \n",
       "\n",
       "   testMetric_Square Hausdorff Distance Best  testMetric_Steps  \\\n",
       "0                                          0                 0   \n",
       "1                                          0                 0   \n",
       "2                                          0                 0   \n",
       "3                                          0                 0   \n",
       "4                                          0                 0   \n",
       "\n",
       "   testMetric_Successful Pinches  testMetric_Sway Path  \\\n",
       "0                              0                     0   \n",
       "1                              0                     0   \n",
       "2                              0                     0   \n",
       "3                              0                     0   \n",
       "4                              1                     0   \n",
       "\n",
       "   testMetric_Top to bottom Hausdorff Distance Best  \\\n",
       "0                                                 0   \n",
       "1                                                 0   \n",
       "2                                                 0   \n",
       "3                                                 0   \n",
       "4                                                 0   \n",
       "\n",
       "   testMetric_Turn Speed Average  testMetric_Turns  Weekday_2  Weekday_3  \\\n",
       "0                              0                 0          0          0   \n",
       "1                              0                 0          0          1   \n",
       "2                              0                 0          0          1   \n",
       "3                              0                 0          0          1   \n",
       "4                              0                 0          0          1   \n",
       "\n",
       "   Weekday_4  Weekday_5  Weekday_6  Weekday_7  Holiday_True  \\\n",
       "0          0          0          0          0             0   \n",
       "1          0          0          0          0             0   \n",
       "2          0          0          0          0             0   \n",
       "3          0          0          0          0             0   \n",
       "4          0          0          0          0             0   \n",
       "\n",
       "   participantBirthYear  participantWeightLbs  participantHeightCms  \\\n",
       "0                  1966                 159.0                 178.0   \n",
       "1                  1966                 159.0                 178.0   \n",
       "2                  1966                 159.0                 178.0   \n",
       "3                  1966                 159.0                 178.0   \n",
       "4                  1966                 159.0                 178.0   \n",
       "\n",
       "   testResultMetricValue  Delta_Weeks_test_register  Delta_Dayss_test_register  \n",
       "0                   4.00                          0                          1  \n",
       "1                   5.00                          0                          3  \n",
       "2                  39.00                          0                          3  \n",
       "3                   2.31                          0                          3  \n",
       "4                  27.00                          0                          3  "
      ]
     },
     "execution_count": 8,
     "metadata": {},
     "output_type": "execute_result"
    }
   ],
   "source": [
    "# create dummy variables of\n",
    "dummy = pd.get_dummies(X['participantCountryOfResidence'],prefix='Country', columns = ['participantCountryOfResidence'], drop_first=True)\n",
    "dummy2 = pd.get_dummies(X['participantSex'],prefix='Sex', columns = ['participantSex'], drop_first=True)\n",
    "dummy3 = pd.get_dummies(X['testName'],prefix='testName', columns = ['testName'], drop_first=True)\n",
    "dummy4 = pd.get_dummies(X['testMetricName'],prefix='testMetric', columns = ['testMetricName'], drop_first=True)\n",
    "dummy5 = pd.get_dummies(X['Weekday_testResultCreatedOn'],prefix='Weekday', columns = ['Weekday_testResultCreatedOn'], drop_first=True)\n",
    "dummy6 = pd.get_dummies(X['Holiday_testResultCreatedOn'],prefix='Holiday', columns = ['Holiday_testResultCreatedOn'], drop_first=True)\n",
    "X = pd.concat([dummy,dummy2,dummy3,dummy4,dummy5,dummy6,X], axis=1);\n",
    "X = X.drop(columns=['participantCountryOfResidence','participantSex','testResultMetricId','testName','testMetricName','Weekday_testResultCreatedOn','Holiday_testResultCreatedOn'], axis=1);\n",
    "# reset indexes\n",
    "X.reset_index(inplace=True)\n",
    "X_index = X['index']\n",
    "X = X.drop(columns=['index'], axis=1);\n",
    "X.head()"
   ]
  },
  {
   "cell_type": "code",
   "execution_count": null,
   "metadata": {},
   "outputs": [],
   "source": []
  },
  {
   "cell_type": "code",
   "execution_count": 9,
   "metadata": {},
   "outputs": [
    {
     "data": {
      "text/plain": [
       "0    True\n",
       "1    True\n",
       "2    True\n",
       "3    True\n",
       "4    True\n",
       "Name: participantIsControl, dtype: bool"
      ]
     },
     "execution_count": 9,
     "metadata": {},
     "output_type": "execute_result"
    }
   ],
   "source": [
    "y.reset_index(drop=True,inplace = True)\n",
    "#y = y*1\n",
    "y.head()"
   ]
  },
  {
   "cell_type": "code",
   "execution_count": 10,
   "metadata": {},
   "outputs": [],
   "source": [
    "label_encoder = LabelEncoder()\n",
    "y = label_encoder.fit_transform(y)"
   ]
  },
  {
   "cell_type": "markdown",
   "metadata": {},
   "source": [
    "Splitting the dataset into the Training set and Test set:"
   ]
  },
  {
   "cell_type": "code",
   "execution_count": 11,
   "metadata": {},
   "outputs": [],
   "source": [
    "# using Stratified K-Folds cross-validator for train set\n",
    "cv = StratifiedKFold(n_splits=5, shuffle = True, random_state=123)\n",
    "\n",
    "# without cross-validation\n",
    "#X_rest, X_test, y_rest, y_test = train_test_split(X, y, test_size = 0.25)\n",
    "#X_rest.reset_index(drop=True,inplace = True)\n",
    "#y_rest.reset_index(drop=True,inplace = True)"
   ]
  },
  {
   "cell_type": "code",
   "execution_count": null,
   "metadata": {},
   "outputs": [],
   "source": []
  },
  {
   "cell_type": "markdown",
   "metadata": {},
   "source": [
    "Feature Scaling:"
   ]
  },
  {
   "cell_type": "code",
   "execution_count": 21,
   "metadata": {},
   "outputs": [],
   "source": [
    "#sc = StandardScaler()\n",
    "#X_train = sc.fit_transform(X_rest)\n",
    "#X_test = sc.transform(X_test)"
   ]
  },
  {
   "cell_type": "markdown",
   "metadata": {},
   "source": [
    "## Logistic regression: "
   ]
  },
  {
   "cell_type": "code",
   "execution_count": 43,
   "metadata": {},
   "outputs": [],
   "source": [
    "classifier_LR = LogisticRegression(solver = 'saga')\n",
    "# classifier_LR.fit(X_train, y_train) # no crossvalidation"
   ]
  },
  {
   "cell_type": "code",
   "execution_count": 44,
   "metadata": {},
   "outputs": [
    {
     "data": {
      "image/png": "[encoded data removed]",
      "text/plain": [
       "<Figure size 864x576 with 1 Axes>"
      ]
     },
     "metadata": {
      "needs_background": "light"
     },
     "output_type": "display_data"
    }
   ],
   "source": [
    "# Run classifier with cross-validation and plot individual ROC curves\n",
    "sns.set_palette(\"Reds\")\n",
    "\n",
    "fig, ax = plt.subplots(figsize=(12,8))\n",
    "for i, (train, test) in enumerate(cv.split(X, y)):\n",
    "    sc = StandardScaler()\n",
    "    X_train_cv = sc.fit_transform(X.loc[train])\n",
    "    X_test_cv = sc.transform(X.loc[test])\n",
    "    classifier_LR.fit(X_train_cv, y[train])\n",
    "    fpr_cv, tpr_cv, _ = roc_curve(y[test], classifier_LR.predict_proba(X_test_cv)[:,1])    \n",
    "    roc_auc_cv = auc(fpr_cv, tpr_cv)\n",
    "    plt.plot(fpr_cv, tpr_cv, lw=3, label='ROC curve Logistic Regression (area = %0.2f)' % roc_auc_cv)\n",
    "\n",
    "plt.plot([0, 1], [0, 1], color='navy', lw=2, linestyle='--')\n",
    "plt.xlim([0.0, 1.0])\n",
    "plt.ylim([0.0, 1.05])\n",
    "plt.xlabel('False Positive Rate')\n",
    "plt.ylabel('True Positive Rate')\n",
    "plt.title('ROC Curve')\n",
    "plt.legend(loc=\"lower right\")\n",
    "plt.show()"
   ]
  },
  {
   "cell_type": "code",
   "execution_count": null,
   "metadata": {},
   "outputs": [],
   "source": [
    "#y_pred_LR = classifier_LR.predict(X_test)"
   ]
  },
  {
   "cell_type": "code",
   "execution_count": null,
   "metadata": {},
   "outputs": [],
   "source": [
    "#cm_LR = confusion_matrix(y_test, y_pred_LR)\n",
    "#cm_LR"
   ]
  },
  {
   "cell_type": "markdown",
   "metadata": {},
   "source": [
    "Calculate the average AUC (Area Under Curve) value:"
   ]
  },
  {
   "cell_type": "code",
   "execution_count": null,
   "metadata": {},
   "outputs": [],
   "source": [
    "#fpra_LR, tpra_LR, _ = roc_curve(y_test, y_pred_LR)\n",
    "#auc_LR = auc(fpra_LR, tpra_LR)\n",
    "#print('AUC Logistic Regression:',auc_LR)"
   ]
  },
  {
   "cell_type": "code",
   "execution_count": null,
   "metadata": {},
   "outputs": [],
   "source": [
    "'''y_pred_LR_train = classifier_LR.predict(X_train)*1\n",
    "y_train = y_train*1\n",
    "mse_LR_train = metrics.mean_squared_error(y_train.values,y_pred_LR_train)\n",
    "R2_LR_train = classifier_LR.score(X_train,y_train)\n",
    "print('Logistic Regression - Train Set')\n",
    "print('RMSE:',math.sqrt(mse_LR_train),'   R2:',R2_LR_train)'''"
   ]
  },
  {
   "cell_type": "code",
   "execution_count": null,
   "metadata": {},
   "outputs": [],
   "source": [
    "'''y_pred_LR = y_pred_LR*1\n",
    "y_test = y_test*1\n",
    "mse_LR_test = metrics.mean_squared_error(y_test.values,y_pred_LR)\n",
    "R2_LR_test = classifier_LR.score(X_test,y_test)\n",
    "print('Logistic Regression - Test Set')\n",
    "print('RMSE:',math.sqrt(mse_LR_test),'   R2:',R2_LR_test)'''"
   ]
  },
  {
   "cell_type": "markdown",
   "metadata": {},
   "source": [
    "I plot the ROC curve to evaluate the effectiveness of the approach: the true positive rate (sensitivity) is plotted over the false positive rate (100-specificity)."
   ]
  },
  {
   "cell_type": "code",
   "execution_count": null,
   "metadata": {},
   "outputs": [],
   "source": [
    "'''fpr_LR, tpr_LR, _ = roc_curve(y_test, classifier_LR.predict_proba(X_test)[:,1])\n",
    "roc_auc_LR = auc(fpr_LR, tpr_LR)\n",
    "# plot\n",
    "plt.figure()\n",
    "plt.plot(fpr_LR, tpr_LR, color='darkorange',\n",
    "         lw=2, label='ROC curve Logistic Regression (area = %0.2f)' % roc_auc_LR)\n",
    "plt.plot([0, 1], [0, 1], color='navy', lw=2, linestyle='--')\n",
    "plt.xlim([0.0, 1.0])\n",
    "plt.ylim([0.0, 1.05])\n",
    "plt.xlabel('False Positive Rate')\n",
    "plt.ylabel('True Positive Rate')\n",
    "plt.title('ROC Curve')\n",
    "plt.legend(loc=\"lower right\")\n",
    "plt.show()'''"
   ]
  },
  {
   "cell_type": "markdown",
   "metadata": {},
   "source": [
    "## k-NN:"
   ]
  },
  {
   "cell_type": "markdown",
   "metadata": {},
   "source": [
    "The k Nearest Neighbors approach requires timely computations to predict the test data set, which often is critical e.g. for online classification.  "
   ]
  },
  {
   "cell_type": "code",
   "execution_count": null,
   "metadata": {},
   "outputs": [],
   "source": [
    "'''classifier_kNN = KNeighborsClassifier(n_neighbors = 15, metric = 'minkowski', p = 2)\n",
    "classifier_kNN.fit(X_train, y_train)\n",
    "y_pred_kNN = classifier_kNN.predict(X_test)\n",
    "cm_kNN = confusion_matrix(y_test, y_pred_kNN)\n",
    "cm_kNN\n",
    "y_pred_kNN_train = classifier_kNN.predict(X_train)*1\n",
    "y_train = y_train*1\n",
    "mse = metrics.mean_squared_error(y_train.values,y_pred_kNN_train)\n",
    "print('k-NN - Train Set')\n",
    "print('RMSE:',math.sqrt(mse),'   R2:',classifier_kNN.score(X_train,y_train))\n",
    "y_pred_kNN = y_pred_kNN*1\n",
    "y_test = y_test*1\n",
    "mse = metrics.mean_squared_error(y_test.values,y_pred_kNN)\n",
    "print('k-NN - Test Set')\n",
    "print('RMSE:',math.sqrt(mse),'   R2:',classifier_kNN.score(X_test,y_test))'''"
   ]
  },
  {
   "cell_type": "markdown",
   "metadata": {},
   "source": [
    "## Support Vector Machines:"
   ]
  },
  {
   "cell_type": "markdown",
   "metadata": {},
   "source": [
    "In this example, the support vector classifier requires exhaustive computations to train the model. I will therefore ignore this approach."
   ]
  },
  {
   "cell_type": "code",
   "execution_count": null,
   "metadata": {},
   "outputs": [],
   "source": [
    "'''# single SVM: \n",
    "classifier_SVM = SVC(kernel = 'linear', class_weight ='balanced')\n",
    "# Ensemble approach: \n",
    "n_estimators = 10\n",
    "classifier_SVM = OneVsRestClassifier(BaggingClassifier(SVC(kernel='linear', probability=True, class_weight='balanced'), bootstrap=False, max_samples=1.0 / n_estimators, n_estimators=n_estimators))\n",
    "classifier_SVM.fit(X_train, y_train)\n",
    "y_pred_SVM = classifier_SVM.predict(X_test)\n",
    "cm_SVM = confusion_matrix(y_test, y_pred_SVM)\n",
    "cm_SVM'''"
   ]
  },
  {
   "cell_type": "markdown",
   "metadata": {},
   "source": [
    "## Naive Bayes:"
   ]
  },
  {
   "cell_type": "code",
   "execution_count": 39,
   "metadata": {},
   "outputs": [],
   "source": [
    "classifier_NB = GaussianNB()\n",
    "#classifier_NB.fit(X_train, y_train) # no crossvalidation"
   ]
  },
  {
   "cell_type": "code",
   "execution_count": 41,
   "metadata": {},
   "outputs": [
    {
     "data": {
      "image/png": "[encoded data removed]",
      "text/plain": [
       "<Figure size 864x576 with 1 Axes>"
      ]
     },
     "metadata": {
      "needs_background": "light"
     },
     "output_type": "display_data"
    }
   ],
   "source": [
    "# Run classifier with cross-validation and plot individual ROC curves\n",
    "sns.set_palette(\"Greens\")\n",
    "\n",
    "fig, ax = plt.subplots(figsize=(12,8))\n",
    "for i, (train, test) in enumerate(cv.split(X, y)):\n",
    "    sc = StandardScaler()\n",
    "    X_train_cv = sc.fit_transform(X.loc[train])\n",
    "    X_test_cv = sc.transform(X.loc[test])\n",
    "    classifier_NB.fit(X_train_cv, y[train])\n",
    "    fpr_cv, tpr_cv, _ = roc_curve(y[test], classifier_NB.predict_proba(X_test_cv)[:,1])    \n",
    "    roc_auc_cv = auc(fpr_cv, tpr_cv)\n",
    "    plt.plot(fpr_cv, tpr_cv, lw=3, label='ROC curve Naive Bayes (area = %0.2f)' % roc_auc_cv)\n",
    "\n",
    "plt.plot([0, 1], [0, 1], color='navy', lw=2, linestyle='--')\n",
    "plt.xlim([0.0, 1.0])\n",
    "plt.ylim([0.0, 1.05])\n",
    "plt.xlabel('False Positive Rate')\n",
    "plt.ylabel('True Positive Rate')\n",
    "plt.title('ROC Curve')\n",
    "plt.legend(loc=\"lower right\")\n",
    "plt.show()"
   ]
  },
  {
   "cell_type": "code",
   "execution_count": null,
   "metadata": {},
   "outputs": [],
   "source": [
    "#y_pred_NB = classifier_NB.predict(X_test)"
   ]
  },
  {
   "cell_type": "code",
   "execution_count": null,
   "metadata": {},
   "outputs": [],
   "source": [
    "#cm_NB = confusion_matrix(y_test, y_pred_NB)\n",
    "#cm_NB"
   ]
  },
  {
   "cell_type": "code",
   "execution_count": null,
   "metadata": {},
   "outputs": [],
   "source": [
    "#fpra_NB, tpra_NB, _ = roc_curve(y_test, y_pred_NB)\n",
    "#auc_NB = auc(fpra_NB, tpra_NB)\n",
    "#print('AUC Naive Bayes:',auc_NB)"
   ]
  },
  {
   "cell_type": "code",
   "execution_count": null,
   "metadata": {},
   "outputs": [],
   "source": [
    "'''y_pred_NB_train = classifier_NB.predict(X_train)*1\n",
    "y_train = y_train*1\n",
    "mse_NB_train = metrics.mean_squared_error(y_train.values,y_pred_NB_train)\n",
    "R2_NB_train = classifier_NB.score(X_train,y_train)\n",
    "print('Naive Bayes - Train Set')\n",
    "print('RMSE:',math.sqrt(mse_NB_train),'   R2:',R2_NB_train)'''"
   ]
  },
  {
   "cell_type": "code",
   "execution_count": null,
   "metadata": {},
   "outputs": [],
   "source": [
    "'''y_pred_NB = y_pred_NB*1\n",
    "y_test = y_test*1\n",
    "mse_NB_test = metrics.mean_squared_error(y_test.values,y_pred_NB)\n",
    "R2_NB_test = classifier_NB.score(X_test,y_test)\n",
    "print('Naive Bayes - Test Set')\n",
    "print('RMSE:',math.sqrt(mse_NB_test),'   R2:',R2_NB_test)'''"
   ]
  },
  {
   "cell_type": "markdown",
   "metadata": {},
   "source": [
    "Both R2 are worse than for the logistic regression. Let's look at the ROC curve."
   ]
  },
  {
   "cell_type": "code",
   "execution_count": null,
   "metadata": {},
   "outputs": [],
   "source": [
    "'''fpr_NB, tpr_NB, _ = roc_curve(y_test, classifier_NB.predict_proba(X_test)[:,1])\n",
    "roc_auc_NB = auc(fpr_NB, tpr_NB)\n",
    "# plot\n",
    "plt.figure()\n",
    "plt.plot(fpr_LR, tpr_LR, color='darkorange',\n",
    "         lw=2, label='ROC curve Logistic Regression (area = %0.2f)' % roc_auc_LR)\n",
    "plt.plot(fpr_NB, tpr_NB, color='red',\n",
    "         lw=2, label='ROC curve Naive Bayes (area = %0.2f)' % roc_auc_NB)\n",
    "plt.plot([0, 1], [0, 1], color='navy', lw=2, linestyle='--')\n",
    "plt.xlim([0.0, 1.0])\n",
    "plt.ylim([0.0, 1.05])\n",
    "plt.xlabel('False Positive Rate')\n",
    "plt.ylabel('True Positive Rate')\n",
    "plt.title('ROC Curve')\n",
    "plt.legend(loc=\"lower right\")\n",
    "plt.show()'''"
   ]
  },
  {
   "cell_type": "markdown",
   "metadata": {},
   "source": [
    "This shows that the logistic regression performed better in classifiying participants than the Naive Bayes approach."
   ]
  },
  {
   "cell_type": "markdown",
   "metadata": {},
   "source": [
    "## Random Forest:"
   ]
  },
  {
   "cell_type": "code",
   "execution_count": 16,
   "metadata": {},
   "outputs": [],
   "source": [
    "classifier_RF = RandomForestClassifier(n_estimators = 25, max_depth = 10, criterion = 'entropy')\n",
    "#classifier_RF.fit(X_train, y_train) # no crossvalidation"
   ]
  },
  {
   "cell_type": "code",
   "execution_count": 17,
   "metadata": {},
   "outputs": [
    {
     "data": {
      "image/png": "[encoded data removed]",
      "text/plain": [
       "<Figure size 864x576 with 1 Axes>"
      ]
     },
     "metadata": {
      "needs_background": "light"
     },
     "output_type": "display_data"
    }
   ],
   "source": [
    "# Run classifier with cross-validation and plot individual ROC curves\n",
    "sns.set_palette(\"Blues\")\n",
    "\n",
    "fig, ax = plt.subplots(figsize=(12,8))\n",
    "for i, (train, test) in enumerate(cv.split(X, y)):\n",
    "    X_train_cv = X.loc[train]\n",
    "    X_train_cv.reset_index(drop = True, inplace=True) # reset indexes\n",
    "    y_train_cv = y[train]\n",
    "    X_test_cv = X.loc[test]\n",
    "    X_test_cv.reset_index(drop = True, inplace=True) # reset indexes\n",
    "    y_test_cv = y[test]\n",
    "    # feature scaling\n",
    "    sc = StandardScaler()\n",
    "    X_train_cv = sc.fit_transform(X_train_cv)\n",
    "    X_test_cv = sc.transform(X_test_cv)\n",
    "    \n",
    "    classifier_RF.fit(X_train_cv, y_train_cv)\n",
    "    fpr_cv, tpr_cv, _ = roc_curve(y_test_cv, classifier_RF.predict_proba(X_test_cv)[:,1])    \n",
    "    roc_auc_cv = auc(fpr_cv, tpr_cv)\n",
    "    plt.plot(fpr_cv, tpr_cv, lw=3, label='ROC curve Random Forest (area = %0.2f)' % roc_auc_cv)\n",
    "\n",
    "plt.plot([0, 1], [0, 1], color='navy', lw=2, linestyle='--')\n",
    "plt.xlim([0.0, 1.0])\n",
    "plt.ylim([0.0, 1.05])\n",
    "plt.xlabel('False Positive Rate')\n",
    "plt.ylabel('True Positive Rate')\n",
    "plt.title('ROC Curve')\n",
    "plt.legend(loc=\"lower right\")\n",
    "plt.show()"
   ]
  },
  {
   "cell_type": "code",
   "execution_count": null,
   "metadata": {},
   "outputs": [],
   "source": [
    "#y_pred_RF = classifier_RF.predict(X_test)"
   ]
  },
  {
   "cell_type": "code",
   "execution_count": null,
   "metadata": {},
   "outputs": [],
   "source": [
    "#cm_RF = confusion_matrix(y_test, y_pred_RF)\n",
    "#cm_RF"
   ]
  },
  {
   "cell_type": "code",
   "execution_count": null,
   "metadata": {},
   "outputs": [],
   "source": [
    "'''fpra_RF, tpra_RF, _ = roc_curve(y_test, y_pred_RF)\n",
    "auc_RF = auc(fpra_RF, tpra_RF)\n",
    "print('AUC Random Forest:',auc_RF)'''"
   ]
  },
  {
   "cell_type": "code",
   "execution_count": null,
   "metadata": {},
   "outputs": [],
   "source": [
    "'''y_pred_RF_train = classifier_RF.predict(X_train)*1\n",
    "y_train = y_train*1\n",
    "mse_RF_train = metrics.mean_squared_error(y_train.values,y_pred_RF_train)\n",
    "R2_RF_train = classifier_RF.score(X_train,y_train)\n",
    "print('Random Forest - Train Set')\n",
    "print('RMSE:',math.sqrt(mse_RF_train),'   R2:',R2_RF_train)'''"
   ]
  },
  {
   "cell_type": "code",
   "execution_count": null,
   "metadata": {},
   "outputs": [],
   "source": [
    "'''y_pred_RF = y_pred_RF*1\n",
    "y_test = y_test*1\n",
    "mse_RF_test = metrics.mean_squared_error(y_test.values,y_pred_RF)\n",
    "R2_RF_test = classifier_RF.score(X_test,y_test)\n",
    "print('Random Forest - Test Set')\n",
    "print('RMSE:',math.sqrt(mse_RF_test),'   R2:',R2_RF_test)'''"
   ]
  },
  {
   "cell_type": "markdown",
   "metadata": {},
   "source": [
    "The model did well to classify the participants. We can also see that the model didn't overfit (since R2 of the test set is pretty close to the R2 of the train set).  \n",
    "Since the Random Forest is a tree-based approach, we do not get probabilities of the classifications. Subsequently, we can not plot the ROC curve for this model. However, the R2 seems pretty convincing."
   ]
  },
  {
   "cell_type": "code",
   "execution_count": null,
   "metadata": {},
   "outputs": [],
   "source": [
    "'''fpr_RF, tpr_RF, _ = roc_curve(y_test, classifier_RF.predict_proba(X_test)[:,1])\n",
    "roc_auc_RF = auc(fpr_RF, tpr_RF)\n",
    "# plot\n",
    "plt.figure()\n",
    "plt.plot(fpr_LR, tpr_LR, color='darkorange',\n",
    "         lw=2, label='ROC curve Logistic Regression (area = %0.2f)' % roc_auc_LR)\n",
    "plt.plot(fpr_NB, tpr_NB, color='red',\n",
    "         lw=2, label='ROC curve Naive Bayes (area = %0.2f)' % roc_auc_NB)\n",
    "plt.plot(fpr_RF, tpr_RF, color='blue',\n",
    "         lw=2, label='ROC curve Random Forest (area = %0.2f)' % roc_auc_RF)\n",
    "plt.plot([0, 1], [0, 1], color='navy', lw=2, linestyle='--')\n",
    "plt.xlim([0.0, 1.0])\n",
    "plt.ylim([0.0, 1.05])\n",
    "plt.xlabel('False Positive Rate')\n",
    "plt.ylabel('True Positive Rate')\n",
    "plt.title('ROC Curve')\n",
    "plt.legend(loc=\"lower right\")\n",
    "plt.show()'''"
   ]
  },
  {
   "cell_type": "markdown",
   "metadata": {},
   "source": [
    "---\n",
    "Now this is the **overview of all models**:"
   ]
  },
  {
   "cell_type": "code",
   "execution_count": null,
   "metadata": {},
   "outputs": [],
   "source": [
    "print(\"Model                 \" + \"R2 Test   \" + \"R2 Train\" )\n",
    "print(\"Logistic Regression   \" + \"%2.4f    %2.4f\" % (R2_LR_train,R2_LR_test))\n",
    "print(\"Naive Bayes           \" + \"%2.4f    %2.4f\" % (R2_NB_train,R2_NB_test))\n",
    "print(\"Random Forest         \" + \"%2.4f    %2.4f\" % (R2_RF_train,R2_RF_test))"
   ]
  },
  {
   "cell_type": "markdown",
   "metadata": {},
   "source": [
    "## 4) Test Hyperparameters"
   ]
  },
  {
   "cell_type": "markdown",
   "metadata": {},
   "source": [
    "**Grid search to check hyperparameters for best model (Random Forest)**"
   ]
  },
  {
   "cell_type": "code",
   "execution_count": 20,
   "metadata": {},
   "outputs": [],
   "source": [
    "X_train, X_test, y_train, y_test = train_test_split(X, y, test_size = 0.25)"
   ]
  },
  {
   "cell_type": "code",
   "execution_count": null,
   "metadata": {},
   "outputs": [],
   "source": []
  },
  {
   "cell_type": "code",
   "execution_count": null,
   "metadata": {},
   "outputs": [],
   "source": []
  },
  {
   "cell_type": "code",
   "execution_count": null,
   "metadata": {},
   "outputs": [],
   "source": []
  },
  {
   "cell_type": "code",
   "execution_count": null,
   "metadata": {},
   "outputs": [],
   "source": []
  },
  {
   "cell_type": "code",
   "execution_count": 21,
   "metadata": {},
   "outputs": [],
   "source": [
    "# Set the parameters by cross-validation\n",
    "tuned_parameters = [{'n_estimators': [10, 25], 'max_depth': [5, 10, 20]}]\n",
    "scores = ['precision', 'recall']"
   ]
  },
  {
   "cell_type": "code",
   "execution_count": 22,
   "metadata": {},
   "outputs": [
    {
     "name": "stdout",
     "output_type": "stream",
     "text": [
      "# Tuning hyper-parameters for precision\n",
      "\n",
      "Best parameters set found on development set:\n",
      "\n",
      "{'max_depth': 20, 'n_estimators': 25}\n",
      "\n",
      "Grid scores on development set:\n",
      "\n",
      "0.858 (+/-0.017) for {'max_depth': 5, 'n_estimators': 10}\n",
      "0.881 (+/-0.011) for {'max_depth': 5, 'n_estimators': 25}\n",
      "0.924 (+/-0.003) for {'max_depth': 10, 'n_estimators': 10}\n",
      "0.923 (+/-0.005) for {'max_depth': 10, 'n_estimators': 25}\n",
      "0.981 (+/-0.005) for {'max_depth': 20, 'n_estimators': 10}\n",
      "0.987 (+/-0.002) for {'max_depth': 20, 'n_estimators': 25}\n",
      "\n",
      "Detailed classification report:\n",
      "\n",
      "The model is trained on the full development set.\n",
      "The scores are computed on the full evaluation set.\n",
      "\n",
      "              precision    recall  f1-score   support\n",
      "\n",
      "           0       0.99      1.00      0.99     39273\n",
      "           1       0.99      0.96      0.97     10922\n",
      "\n",
      "   micro avg       0.99      0.99      0.99     50195\n",
      "   macro avg       0.99      0.98      0.98     50195\n",
      "weighted avg       0.99      0.99      0.99     50195\n",
      "\n",
      "\n",
      "# Tuning hyper-parameters for recall\n",
      "\n",
      "Best parameters set found on development set:\n",
      "\n",
      "{'max_depth': 20, 'n_estimators': 25}\n",
      "\n",
      "Grid scores on development set:\n",
      "\n",
      "0.649 (+/-0.035) for {'max_depth': 5, 'n_estimators': 10}\n",
      "0.661 (+/-0.046) for {'max_depth': 5, 'n_estimators': 25}\n",
      "0.816 (+/-0.015) for {'max_depth': 10, 'n_estimators': 10}\n",
      "0.825 (+/-0.011) for {'max_depth': 10, 'n_estimators': 25}\n",
      "0.969 (+/-0.005) for {'max_depth': 20, 'n_estimators': 10}\n",
      "0.975 (+/-0.004) for {'max_depth': 20, 'n_estimators': 25}\n",
      "\n",
      "Detailed classification report:\n",
      "\n",
      "The model is trained on the full development set.\n",
      "The scores are computed on the full evaluation set.\n",
      "\n",
      "              precision    recall  f1-score   support\n",
      "\n",
      "           0       0.99      1.00      0.99     39273\n",
      "           1       0.99      0.96      0.97     10922\n",
      "\n",
      "   micro avg       0.99      0.99      0.99     50195\n",
      "   macro avg       0.99      0.98      0.98     50195\n",
      "weighted avg       0.99      0.99      0.99     50195\n",
      "\n",
      "\n"
     ]
    }
   ],
   "source": [
    "for score in scores:\n",
    "    print(\"# Tuning hyper-parameters for %s\" % score)\n",
    "    print()\n",
    "\n",
    "    clf = GridSearchCV(\n",
    "        RandomForestClassifier(n_estimators=25, criterion = 'entropy'), tuned_parameters, scoring='%s_macro' % score\n",
    "    )\n",
    "    sc = StandardScaler()\n",
    "    X_train = sc.fit_transform(X_train)\n",
    "    X_test = sc.transform(X_test)\n",
    "    clf.fit(X_train, y_train)\n",
    "\n",
    "    print(\"Best parameters set found on development set:\")\n",
    "    print()\n",
    "    print(clf.best_params_)\n",
    "    print()\n",
    "    print(\"Grid scores on development set:\")\n",
    "    print()\n",
    "    means = clf.cv_results_['mean_test_score']\n",
    "    stds = clf.cv_results_['std_test_score']\n",
    "    for mean, std, params in zip(means, stds, clf.cv_results_['params']):\n",
    "        print(\"%0.3f (+/-%0.03f) for %r\"\n",
    "              % (mean, std * 2, params))\n",
    "    print()\n",
    "\n",
    "    print(\"Detailed classification report:\")\n",
    "    print()\n",
    "    print(\"The model is trained on the full development set.\")\n",
    "    print(\"The scores are computed on the full evaluation set.\")\n",
    "    print()\n",
    "    y_true, y_pred = y_test, clf.predict(X_test)\n",
    "    print(classification_report(y_true, y_pred))\n",
    "    print()"
   ]
  },
  {
   "cell_type": "markdown",
   "metadata": {},
   "source": [
    "Our previously used settings ('n_estimators=25') seems like a reasonable setting."
   ]
  },
  {
   "cell_type": "markdown",
   "metadata": {},
   "source": [
    "## 5) Model interpretation"
   ]
  },
  {
   "cell_type": "markdown",
   "metadata": {},
   "source": [
    "**Feature importance**\n",
    "\n",
    "Let's look at the importance of each feature and plot the 10 most important features:"
   ]
  },
  {
   "cell_type": "code",
   "execution_count": 24,
   "metadata": {},
   "outputs": [
    {
     "data": {
      "image/png": "[encoded data removed]",
      "text/plain": [
       "<Figure size 432x288 with 1 Axes>"
      ]
     },
     "metadata": {
      "needs_background": "light"
     },
     "output_type": "display_data"
    }
   ],
   "source": [
    "feat_importances = pd.Series(classifier_RF.feature_importances_, index=X.columns)\n",
    "feat_importances.nlargest(10).plot(kind='barh',color='green')\n",
    "plt.show()"
   ]
  },
  {
   "cell_type": "markdown",
   "metadata": {},
   "source": [
    "We can see that the most important features came from anthropomorphic data (like age, sex, height and weight) and the test results."
   ]
  },
  {
   "cell_type": "code",
   "execution_count": null,
   "metadata": {},
   "outputs": [],
   "source": []
  },
  {
   "cell_type": "code",
   "execution_count": null,
   "metadata": {},
   "outputs": [],
   "source": []
  },
  {
   "cell_type": "code",
   "execution_count": null,
   "metadata": {},
   "outputs": [],
   "source": []
  },
  {
   "cell_type": "code",
   "execution_count": null,
   "metadata": {},
   "outputs": [],
   "source": []
  },
  {
   "cell_type": "markdown",
   "metadata": {},
   "source": [
    "This is an imbalanced classification problem, so accuracy is not an appropriate metric."
   ]
  }
 ],
 "metadata": {
  "kernelspec": {
   "display_name": "Python 3",
   "language": "python",
   "name": "python3"
  },
  "language_info": {
   "codemirror_mode": {
    "name": "ipython",
    "version": 3
   },
   "file_extension": ".py",
   "mimetype": "text/x-python",
   "name": "python",
   "nbconvert_exporter": "python",
   "pygments_lexer": "ipython3",
   "version": "3.7.3"
  }
 },
 "nbformat": 4,
 "nbformat_minor": 2
}
